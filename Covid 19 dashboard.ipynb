{
 "cells": [
  {
   "attachments": {},
   "cell_type": "markdown",
   "metadata": {},
   "source": [
    "# COVID-19 Dashboard - Canada\n",
    "\n",
    "### This is a dashboard for visualizing Canadian COVID statistics using the OpenCOVID API.\n",
    "\n",
    "By default, daily new infections and daily deaths will be visualized if data regarding only a specific health region is queried. For data queried at a provincial, territorial, or national level, visualizations concerning hospitalizations and ICU occupancies will also be included. \n",
    "\n",
    "While this is currently the only data visualized, the OpenCOVID API also includes support for additional data at the provincial, territorial, or national level, regarding COVID testing, vaccine administration, and vaccine coverage, with data being separable for each vaccine dose up to and including the fourth. Additional support for the extended data as well as additional data representations such as tables are being considered for this dashboard for future updates. \n",
    "\n",
    "***\n",
    "\n",
    "Requested data can be customized via editing the following four parameters, as follows: \n",
    "\n"
   ]
  },
  {
   "cell_type": "code",
   "execution_count": 188,
   "metadata": {},
   "outputs": [],
   "source": [
    "# PARAMS: change these to see different data\n",
    "# All dates must follow the format YYYY-MM-DD\n",
    "\n",
    "geographic_data_level = 'pt'\n",
    "# This can be 'pt' for provincial or territorial, 'hr' for health region, or 'can' for the entirety of Canada. \n",
    "\n",
    "start_date = '2023-11-01'\n",
    "# This is the first day that you want to see data for. Nothing before this date will be shown.\n",
    "\n",
    "end_date = '2023-12-10'\n",
    "# This is the final day that you want to see data for. Nothing after this date will be shown."
   ]
  },
  {
   "attachments": {},
   "cell_type": "markdown",
   "metadata": {},
   "source": [
    "The final parameter is our location ID. This is either a two letter province or territory abbreviation, or a three or four digit health region code. Please note that hospitalization data is only provided for data at or above the provincial level. In the event that data is only requested for a specific health region, only case and death data are available. This is a limit of the OpenCOVID API, which this notebook uses.   \n",
    "\n",
    "[The lookup table for individual health regions and provincial abbreviations can be found here:](https://github.com/ccodwg/CovidTimelineCanada/blob/main/geo/hr.csv)\n",
    "\n",
    "https://github.com/ccodwg/CovidTimelineCanada/blob/main/geo/hr.csv\n",
    "\n",
    "For health region codes, refer to values under the column `hruid`, and for provincial abbreviations, please reference the values under the column labelled `region`."
   ]
  },
  {
   "cell_type": "code",
   "execution_count": 189,
   "metadata": {},
   "outputs": [],
   "source": [
    "# PARAM: change this to see different data\n",
    "# IMPORTANT: different geographic data levels have different data available and different update frequencies; for example, BC only updates some data weekly, and only for the province as a whole, not for health regions.\n",
    "\n",
    "location_ID = 'ON'\n",
    "\n",
    "# This is either a two letter province or territory abbreviation, or a three or four digit health region code.\n",
    "# Examples would be 'BC' for British Columbia, 'AB' for Alberta, '593' for Vancouver Coastal Health, or '4601' for Winnipeg Regional Health Authority. \n",
    "# If you want to see data for the entirety of Canada, change this to an empty string - ''."
   ]
  },
  {
   "attachments": {},
   "cell_type": "markdown",
   "metadata": {},
   "source": [
    "The following code runs using our provided parameters from above. Let's begin by importing the modules we'll need for our dashboard. "
   ]
  },
  {
   "cell_type": "code",
   "execution_count": 190,
   "metadata": {},
   "outputs": [],
   "source": [
    "import datetime, json, requests\n",
    "import matplotlib.pyplot as plt\n",
    "import  matplotlib.dates as mdates\n",
    "%matplotlib inline"
   ]
  },
  {
   "cell_type": "markdown",
   "metadata": {},
   "source": [
    "Next, let's import plotly, as the purpose of this notebook is to learn how to use the package."
   ]
  },
  {
   "cell_type": "code",
   "execution_count": 191,
   "metadata": {},
   "outputs": [],
   "source": [
    "import plotly.graph_objs as go\n",
    "import pandas as pd\n",
    "from plotly.offline import iplot, init_notebook_mode\n",
    "import plotly.express as px\n",
    "from plotly.subplots import make_subplots\n",
    "import numpy as np\n",
    "from sklearn.linear_model import LinearRegression\n",
    "from statsmodels.tsa.arima.model import ARIMA\n",
    "from pandas.plotting import register_matplotlib_converters\n",
    "register_matplotlib_converters() # ensures pandas datatypes will work with matplotlib without having to cast them"
   ]
  },
  {
   "attachments": {},
   "cell_type": "markdown",
   "metadata": {},
   "source": [
    "Next, we can define a few functions that'll be used multiple times for processing data. We'll starting with a `rolling_avg` function that returns a list of rolling averages based on a specified window size, a `format_date_axis` function that'll be used to format the dates on the X-axis of our plots, and a `subquery_data` function that helps us process specific kinds of information returned from our API call. We'll also include `final_value_label` to help us save on repetition when we're annotating our final values for each line plot. "
   ]
  },
  {
   "cell_type": "code",
   "execution_count": 192,
   "metadata": {},
   "outputs": [],
   "source": [
    "def rolling_avg(data, window_size):\n",
    "    '''returns a list of rolling averages for a given list of data, using a given window size'''\n",
    "    return [sum(data[i-window_size:i])/window_size for i in range(window_size, len(data))] # list comprehension that calculates the rolling average for each day.\n",
    "    # we'll be using this almost exclusively for 7-day rolling averages, but it can be used for any window size.\n",
    "\n",
    "def format_date_axis(ax):\n",
    "    '''format the dates shown on the x-axis of given axes, ax'''\n",
    "    locator = mdates.AutoDateLocator(minticks=10, maxticks=20) # set the number of ticks on the x-axis\n",
    "    formatter = mdates.ConciseDateFormatter(locator) # format the dates shown on the x-axis \n",
    "    ax.xaxis.set_major_locator(locator)\n",
    "    ax.xaxis.set_major_formatter(formatter) \n",
    "\n",
    "def subquery_data(query_type, result_data, value_type):\n",
    "    '''used to gather information for the subqueries for pt and above, such as hospitalizations, ICU counts, and tests.'''\n",
    "    query_data = result_data[query_type] # get the data for the subquery\n",
    "    query_dates = [daily['date'] for daily in query_data] # extract the date strings\n",
    "    n_query = [daily[value_type] for daily in query_data] # extract the data values - whether we want daily or cumulative values\n",
    "    query_datetime_objects = [datetime.datetime.strptime(date, '%Y-%m-%d') for date in query_dates] # convert the date strings to datetime objects\n",
    "    query_dates = [dt.date() for dt in query_datetime_objects] # convert the datetime objects to date objects\n",
    "    # query 7-day rolling averages\n",
    "    if query_type != 'deaths':\n",
    "        # not all provinces and health regions report deaths on a daily basis, so the rolling average would be misleading.\n",
    "        # we'll only generate rolling averages for the other subqueries.\n",
    "        query_rolling = rolling_avg(n_query, 7) # calculate the 7-day rolling average\n",
    "        query_dates_rolling = query_dates[7:] \n",
    "        return query_dates, n_query, query_dates_rolling, query_rolling\n",
    "    else:\n",
    "        # in the event that we ARE looking at deaths, we don't need to return the rolling averages.\n",
    "        return query_dates, n_query\n",
    "\n",
    "def final_value_label(ax, value, color):\n",
    "    '''add a label to the right side of the graph showing the final value'''\n",
    "    ax.annotate(f'{int(value[-1])}', xy=(1, value[-1]), xycoords=('axes fraction', 'data'), ha = 'left', va = 'center', color = color)"
   ]
  },
  {
   "attachments": {},
   "cell_type": "markdown",
   "metadata": {},
   "source": [
    "Now that we have our tools ready, we're ready to make our API call using the parameters declared at the start of this notebook. We'll be using basic string concatenation for this. "
   ]
  },
  {
   "cell_type": "code",
   "execution_count": 193,
   "metadata": {},
   "outputs": [],
   "source": [
    "# string concatenation to create the query URL\n",
    "query = 'https://api.opencovid.ca/timeseries?geo=' + geographic_data_level + '&loc=' + location_ID + '&after=' + start_date + '&before=' + end_date\n",
    "# api call uses the default value for stat, returning all available data.\n",
    "# this data isn't as comprehensive when it's requested for a specific HR instead of PT or above, so \n",
    "# the additional data provided for provincial queries and above will be handled behind an if statement.\n",
    "response = requests.request(\"GET\", query, headers={}, data={}) # make the request\n",
    "result = json.loads(response.text) # convert the response to a json object\n",
    "result_data = result['data'] # get the data from the json object\n",
    "\n",
    "# if location_ID is empty, we're looking at Canada as a whole, so now that we're done with our API call, we can set location_ID to 'CAN'\n",
    "if location_ID == '':\n",
    "    location_ID = 'CANADA'"
   ]
  },
  {
   "attachments": {},
   "cell_type": "markdown",
   "metadata": {},
   "source": [
    "Finally, we're ready to go through the raw data with our `subquery_data` function to pick out what exactly we're looking for and plot it with matplotlib. \n",
    "\n",
    "We'll also clarify how many plots we'll be making here: if we're only looking at a health region (`hr`), we'll only have access to data regarding daily infections and daily deaths (and even the deaths might not necessarily be updated daily!) so we'll only need 2 plots. However, if we're looking at data at a provincial level or higher (`pt` or `can`), we'll also have hospitalization and ICU patient numbers - so we'll have a total of 4 plots instead. "
   ]
  },
  {
   "cell_type": "code",
   "execution_count": 194,
   "metadata": {},
   "outputs": [
    {
     "data": {
      "image/png": "[encoded data removed]",
      "text/plain": [
       "<Figure size 2000x2000 with 4 Axes>"
      ]
     },
     "metadata": {},
     "output_type": "display_data"
    }
   ],
   "source": [
    "if geographic_data_level != 'hr':\n",
    "    # fig, [[ax1, ax2], [ax3, ax4], [ax5, ax6]] = plt.subplots(nrows=3, ncols=2, figsize = [20,30])\n",
    "    # two of the charts have been removed as vaccine coverage is only updated once per month, as is testing data, and it doesn't plot well.\n",
    "    fig, [[ax1, ax2], [ax3, ax4]] = plt.subplots(nrows=2, ncols=2, figsize = [20,20]) # create the figure - a 2 x 2 plot of subplots\n",
    "else:\n",
    "    fig, [ax1, ax2] = plt.subplots(nrows=2, figsize = [20,20]) # create the figure and axes - 2 plots in 2 rows. \n",
    "\n",
    "# case data\n",
    "case_dates, n_cases, cases_dates_rolling, cases_rolling = subquery_data('cases', result_data, 'value_daily')\n",
    "format_date_axis(ax1)\n",
    "ax1.plot(case_dates, n_cases, c ='b', label='Daily Cases')  # Plot some data on the axes.\n",
    "ax1.plot(cases_dates_rolling, cases_rolling, c='r', label='7-day Rolling Average of Cases')\n",
    "ax1.set_xlabel('Date')  # Add an x-label to the axes.\n",
    "ax1.set_ylabel('Daily Newly Confirmed Cases')  # Add a y-label to the axes.\n",
    "ax1.set_title(f'Daily COVID-19 Infections for {location_ID}')  # Add a title to the axes.\n",
    "final_value_label(ax1, n_cases, 'b')\n",
    "final_value_label(ax1, cases_rolling, 'r')\n",
    "ax1.legend() # make sure to add the legend to the plot. it won't show up otherwise, even if we've added labels to the lines.\n",
    "\n",
    "# death data\n",
    "death_dates, n_deaths = subquery_data('deaths', result_data, 'value_daily')\n",
    "'''plot deaths as a bar chart using matplotlib'''\n",
    "ax2.bar(death_dates, n_deaths, label='Daily Deaths')  # Plot some data on the axes.\n",
    "format_date_axis(ax2) \n",
    "# the date axis formatting function doesn't actually work particularly well with the bar chart, particularly when it comes to health regions\n",
    "# or provinces that might not update this value daily. it works well for line charts, though, and works well enough for provinces that DO update\n",
    "# daily, so we'll keep it for now. it's likely to get an update in the future.\n",
    "ax2.set_xlabel('Date')  # Add an x-label to the axes.\n",
    "ax2.set_ylabel('Newly Confirmed Deaths')  # Add a y-label to the axes.\n",
    "ax2.set_title(f'COVID-19 Deaths per Day for {location_ID}') \n",
    "ax2.legend()\n",
    "\n",
    "# if we're looking at the provincial level or higher, we can include graphs for additional data as well.\n",
    "# otherwise, if we're only looking at a specific health region, we only need two graphs - one for cases and one for deaths, so this is skipped.\n",
    "if geographic_data_level != 'hr':\n",
    "    # hospitalization data\n",
    "    hosp_dates, n_hosp, hosp_dates_rolling, hosp_rolling = subquery_data('hospitalizations', result_data, 'value')\n",
    "    # plot hospitalizations as a line graph using matplotlib\n",
    "    ax3.plot(hosp_dates, n_hosp, c ='b', label='Actively Hospitalized Patients')  # Plot some data on the axes.\n",
    "    ax3.plot(hosp_dates_rolling, hosp_rolling, c='r', label='7-day Rolling Average of Active Hospitalizations')\n",
    "    format_date_axis(ax3)\n",
    "    ax3.set_xlabel('Date')  # Add an x-label to the axes.\n",
    "    ax3.set_ylabel('Number of Hospitalized Patients')  # Add a y-label to the axes.\n",
    "    ax3.set_title(f'COVID-19 Hospitalizations for {location_ID}')  # Add a title to the axes.\n",
    "    final_value_label(ax3, n_hosp, 'b')\n",
    "    final_value_label(ax3, hosp_rolling, 'r')\n",
    "    ax3.legend()\n",
    "\n",
    "    # ICU data\n",
    "    icu_dates, n_icu, icu_dates_rolling, icu_rolling = subquery_data('icu', result_data, 'value')\n",
    "    # plot ICU as a line graph using matplotlib\n",
    "    ax4.plot(icu_dates, n_icu, c ='b', label='Number of Patients in ICU')  # Plot some data on the axes.\n",
    "    ax4.plot(icu_dates_rolling, icu_rolling, c='r', label='7-day Rolling Average of ICU Occupancies')\n",
    "    format_date_axis(ax4)\n",
    "    ax4.set_xlabel('Date')  # Add an x-label to the axes.\n",
    "    ax4.set_ylabel('Number of Patients in ICU')  # Add a y-label to the axes.\n",
    "    ax4.set_title(f'COVID-19 ICU Occupancies for {location_ID}')  # Add a title to the axes.\n",
    "    final_value_label(ax4, n_icu, 'b')\n",
    "    final_value_label(ax4, icu_rolling, 'r')\n",
    "    ax4.legend()\n",
    "\n",
    "    # vaccine coverage data\n",
    "    # this code works perfectly fine, but it's been removed for now due to the fact that vaccine coverage is only updated once per month.\n",
    "    '''colors = ['b', 'y', 'g', 'r']\n",
    "    for i in range(1,5):\n",
    "        vax_dates, n_vax, vax_dates_rolling, vax_rolling = subquery_data(f'vaccine_coverage_dose_{i}', result_data, 'value')\n",
    "        # plot vaccine coverage as line graphs using matplotlib\n",
    "        ax5.plot(vax_dates, n_vax, c = colors[i-1], label=f'Dose {i}')\n",
    "        ax5.annotate(f'{n_vax[-1]:.2f}', xy=(1,n_vax[-1]), xycoords=('axes fraction', 'data'), \n",
    "                     ha='left', va='center', color=colors[i-1])\n",
    "    ax5.set_xlabel('Date')  # Add an x-label to the axes.\n",
    "    ax5.set_ylabel('Percentage of Population With Dose Administered')  # Add a y-label to the axes.\n",
    "    ax5.set_title(f'COVID-19 Vaccine Coverage for {location_ID}')  # Add a title to the axes.\n",
    "    ax5.legend()'''\n",
    "\n",
    "    # testing data\n",
    "    # same issue as vaccine coverage data - thus not included in the final implementation. "
   ]
  },
  {
   "attachments": {},
   "cell_type": "markdown",
   "metadata": {},
   "source": [
    "If your `geographic_data_level` was `hr`, there should be two graphs presented above. If it was `pt` or `can`, you should be seeing four graphs above. Additional graphs pertaining to vaccination rates and the number of tests being performed have been temporarily disabled, as those values are only updated once per month, and don't graph well. \n",
    "\n",
    "Final values for each line shown on a lineplot are displayed as annotations in their corresponding graphs, and are color coded for ease of use. Additionally, the line graphs are color-coded: the lines representing daily data are shown in `blue`, while the lines representing seven-day rolling averages are displayed in `red`. Hopefully, the added contrast aids in ease of use. Please feel free to contact me with concerns regarding accessibility issues, should any arise, and I'll do my best to hopefully implement a solution as fast as possible. \n",
    "\n",
    "The date axis labels could be improved upon slightly, particularly when displaying data that might not be updated daily (specifically, the death counts - not every province and health region updates this information on a daily basis, and some organizations only provide data once per week. While this isn't as bad as the once-a-month updates such as those for vaccination and testing, it still make the axis label slightly messier than it needs to be. )\n",
    "\n"
   ]
  },
  {
   "cell_type": "markdown",
   "metadata": {},
   "source": [
    "Anyhow, `matplotlib` is of limited used in our case; we can't see specific values on any given day, and it'd be nice to see finer details and provide some degree of interactivity, so let's take a look at the same data, but visualize it this time with `plotly`!"
   ]
  },
  {
   "cell_type": "code",
   "execution_count": 195,
   "metadata": {},
   "outputs": [
    {
     "data": {
      "application/vnd.plotly.v1+json": {
       "config": {
        "plotlyServerURL": "https://plot.ly"
       },
       "data": [
        {
         "hovertemplate": "Daily Cases: %{y}<extra></extra>",
         "marker": {
          "color": "blue"
         },
         "mode": "lines+markers",
         "name": "Daily Cases",
         "type": "scatter",
         "x": [
          "2023-11-01",
          "2023-11-02",
          "2023-11-03",
          "2023-11-04",
          "2023-11-05",
          "2023-11-06",
          "2023-11-07",
          "2023-11-08",
          "2023-11-09",
          "2023-11-10",
          "2023-11-11",
          "2023-11-12",
          "2023-11-13",
          "2023-11-14",
          "2023-11-15",
          "2023-11-16",
          "2023-11-17",
          "2023-11-18",
          "2023-11-19",
          "2023-11-20",
          "2023-11-21",
          "2023-11-22",
          "2023-11-23",
          "2023-11-24",
          "2023-11-25",
          "2023-11-26",
          "2023-11-27",
          "2023-11-28",
          "2023-11-29",
          "2023-11-30",
          "2023-12-01",
          "2023-12-02",
          "2023-12-03",
          "2023-12-04",
          "2023-12-05",
          "2023-12-06",
          "2023-12-07",
          "2023-12-08",
          "2023-12-09",
          "2023-12-10"
         ],
         "xaxis": "x",
         "y": [
          631,
          523,
          426,
          466,
          317,
          429,
          628,
          593,
          581,
          542,
          365,
          316,
          458,
          652,
          790,
          695,
          700,
          511,
          350,
          719,
          780,
          770,
          651,
          743,
          517,
          452,
          552,
          751,
          769,
          608,
          605,
          492,
          432,
          452,
          681,
          665,
          644,
          736,
          452,
          456
         ],
         "yaxis": "y"
        },
        {
         "hovertemplate": "7-day Rolling Average of Cases: %{y}<extra></extra>",
         "line": {
          "color": "red"
         },
         "mode": "lines",
         "name": "7-day Rolling Average of Cases",
         "type": "scatter",
         "x": [
          "2023-11-08",
          "2023-11-09",
          "2023-11-10",
          "2023-11-11",
          "2023-11-12",
          "2023-11-13",
          "2023-11-14",
          "2023-11-15",
          "2023-11-16",
          "2023-11-17",
          "2023-11-18",
          "2023-11-19",
          "2023-11-20",
          "2023-11-21",
          "2023-11-22",
          "2023-11-23",
          "2023-11-24",
          "2023-11-25",
          "2023-11-26",
          "2023-11-27",
          "2023-11-28",
          "2023-11-29",
          "2023-11-30",
          "2023-12-01",
          "2023-12-02",
          "2023-12-03",
          "2023-12-04",
          "2023-12-05",
          "2023-12-06",
          "2023-12-07",
          "2023-12-08",
          "2023-12-09",
          "2023-12-10"
         ],
         "xaxis": "x",
         "y": [
          488.57142857142856,
          483.14285714285717,
          491.42857142857144,
          508,
          493.57142857142856,
          493.42857142857144,
          497.57142857142856,
          501,
          529.1428571428571,
          545.4285714285714,
          568,
          588.8571428571429,
          593.7142857142857,
          631,
          649.2857142857143,
          646.4285714285714,
          640.1428571428571,
          646.2857142857143,
          647.1428571428571,
          661.7142857142857,
          637.8571428571429,
          633.7142857142857,
          633.5714285714286,
          627.4285714285714,
          607.7142857142857,
          604.1428571428571,
          601.2857142857143,
          587,
          577,
          562.1428571428571,
          567.2857142857143,
          586,
          580.2857142857143
         ],
         "yaxis": "y"
        },
        {
         "hovertemplate": "Daily Deaths: %{y}<extra></extra>",
         "name": "Daily Deaths",
         "type": "bar",
         "x": [
          "2023-11-01",
          "2023-11-02",
          "2023-11-03",
          "2023-11-04",
          "2023-11-05",
          "2023-11-06",
          "2023-11-07",
          "2023-11-08",
          "2023-11-09",
          "2023-11-10",
          "2023-11-11",
          "2023-11-12",
          "2023-11-13",
          "2023-11-14",
          "2023-11-15",
          "2023-11-16",
          "2023-11-17",
          "2023-11-18",
          "2023-11-19",
          "2023-11-20",
          "2023-11-21",
          "2023-11-22",
          "2023-11-23",
          "2023-11-24",
          "2023-11-25",
          "2023-11-26",
          "2023-11-27",
          "2023-11-28",
          "2023-11-29",
          "2023-11-30",
          "2023-12-01",
          "2023-12-02",
          "2023-12-03",
          "2023-12-04",
          "2023-12-05",
          "2023-12-06",
          "2023-12-07",
          "2023-12-08",
          "2023-12-09",
          "2023-12-10"
         ],
         "xaxis": "x2",
         "y": [
          11,
          5,
          7,
          4,
          11,
          7,
          7,
          3,
          8,
          5,
          10,
          6,
          7,
          12,
          13,
          8,
          10,
          8,
          9,
          6,
          6,
          9,
          10,
          5,
          6,
          9,
          4,
          7,
          9,
          3,
          6,
          6,
          12,
          2,
          6,
          2,
          10,
          4,
          4,
          3
         ],
         "yaxis": "y2"
        },
        {
         "hovertemplate": "Actively Hospitalized Patients: %{y}<extra></extra>",
         "marker": {
          "color": "blue"
         },
         "mode": "lines+markers",
         "name": "Actively Hospitalized Patients",
         "type": "scatter",
         "x": [
          "2023-11-01",
          "2023-11-02",
          "2023-11-03",
          "2023-11-04",
          "2023-11-05",
          "2023-11-06",
          "2023-11-07",
          "2023-11-08",
          "2023-11-09",
          "2023-11-10",
          "2023-11-11",
          "2023-11-12",
          "2023-11-13",
          "2023-11-14",
          "2023-11-15",
          "2023-11-16",
          "2023-11-17",
          "2023-11-18",
          "2023-11-19",
          "2023-11-20",
          "2023-11-21",
          "2023-11-22",
          "2023-11-23",
          "2023-11-24",
          "2023-11-25",
          "2023-11-26",
          "2023-11-27",
          "2023-11-28",
          "2023-11-29",
          "2023-11-30",
          "2023-12-01",
          "2023-12-02",
          "2023-12-03",
          "2023-12-04",
          "2023-12-05",
          "2023-12-06",
          "2023-12-07",
          "2023-12-08",
          "2023-12-09",
          "2023-12-10"
         ],
         "xaxis": "x3",
         "y": [
          1091,
          1077,
          1060,
          1055,
          1127,
          1139,
          1138,
          1166,
          1169,
          1110,
          1176,
          1169,
          1286,
          1251,
          1337,
          1371,
          1402,
          1515,
          1600,
          1627,
          1652,
          1645,
          1731,
          1710,
          1688,
          1816,
          1798,
          1763,
          1786,
          1696,
          1623,
          1660,
          1706,
          1666,
          1619,
          1533,
          1439,
          1470,
          1521,
          1605
         ],
         "yaxis": "y3"
        },
        {
         "hovertemplate": "7-day Rolling Average of ACtive Hospitalizations: %{y}<extra></extra>",
         "line": {
          "color": "red"
         },
         "mode": "lines",
         "name": "7-day Rolling Average of Active Hospitalizations",
         "type": "scatter",
         "x": [
          "2023-11-08",
          "2023-11-09",
          "2023-11-10",
          "2023-11-11",
          "2023-11-12",
          "2023-11-13",
          "2023-11-14",
          "2023-11-15",
          "2023-11-16",
          "2023-11-17",
          "2023-11-18",
          "2023-11-19",
          "2023-11-20",
          "2023-11-21",
          "2023-11-22",
          "2023-11-23",
          "2023-11-24",
          "2023-11-25",
          "2023-11-26",
          "2023-11-27",
          "2023-11-28",
          "2023-11-29",
          "2023-11-30",
          "2023-12-01",
          "2023-12-02",
          "2023-12-03",
          "2023-12-04",
          "2023-12-05",
          "2023-12-06",
          "2023-12-07",
          "2023-12-08",
          "2023-12-09",
          "2023-12-10"
         ],
         "xaxis": "x3",
         "y": [
          1098.142857142857,
          1108.857142857143,
          1122,
          1129.142857142857,
          1146.4285714285713,
          1152.4285714285713,
          1173.4285714285713,
          1189.5714285714287,
          1214,
          1242.857142857143,
          1284.5714285714287,
          1333,
          1394.5714285714287,
          1443.2857142857142,
          1500.5714285714287,
          1544.5714285714287,
          1596,
          1640,
          1664.7142857142858,
          1695.5714285714287,
          1720,
          1735.857142857143,
          1756,
          1751,
          1738.5714285714287,
          1734.5714285714287,
          1718.857142857143,
          1700,
          1679.4285714285713,
          1643.2857142857142,
          1606.5714285714287,
          1584.7142857142858,
          1564.857142857143
         ],
         "yaxis": "y3"
        },
        {
         "hovertemplate": "Number of Patients in ICU: %{y}<extra></extra>",
         "marker": {
          "color": "blue"
         },
         "mode": "lines+markers",
         "name": "Number of Patients in ICU",
         "type": "scatter",
         "x": [
          "2023-11-01",
          "2023-11-02",
          "2023-11-03",
          "2023-11-04",
          "2023-11-05",
          "2023-11-06",
          "2023-11-07",
          "2023-11-08",
          "2023-11-09",
          "2023-11-10",
          "2023-11-11",
          "2023-11-12",
          "2023-11-13",
          "2023-11-14",
          "2023-11-15",
          "2023-11-16",
          "2023-11-17",
          "2023-11-18",
          "2023-11-19",
          "2023-11-20",
          "2023-11-21",
          "2023-11-22",
          "2023-11-23",
          "2023-11-24",
          "2023-11-25",
          "2023-11-26",
          "2023-11-27",
          "2023-11-28",
          "2023-11-29",
          "2023-11-30",
          "2023-12-01",
          "2023-12-02",
          "2023-12-03",
          "2023-12-04",
          "2023-12-05",
          "2023-12-06",
          "2023-12-07",
          "2023-12-08",
          "2023-12-09",
          "2023-12-10"
         ],
         "xaxis": "x4",
         "y": [
          57,
          61,
          57,
          58,
          63,
          67,
          77,
          81,
          84,
          77,
          78,
          81,
          79,
          84,
          84,
          84,
          92,
          91,
          97,
          106,
          103,
          97,
          94,
          90,
          94,
          93,
          102,
          113,
          114,
          114,
          113,
          120,
          120,
          113,
          110,
          100,
          107,
          111,
          109,
          113
         ],
         "yaxis": "y4"
        },
        {
         "hovertemplate": "7-day Rolling Average of ICU Occupancies: %{y}<extra></extra>",
         "line": {
          "color": "red"
         },
         "mode": "lines",
         "name": "7-day Rolling Average of ICU Occupancies",
         "type": "scatter",
         "x": [
          "2023-11-08",
          "2023-11-09",
          "2023-11-10",
          "2023-11-11",
          "2023-11-12",
          "2023-11-13",
          "2023-11-14",
          "2023-11-15",
          "2023-11-16",
          "2023-11-17",
          "2023-11-18",
          "2023-11-19",
          "2023-11-20",
          "2023-11-21",
          "2023-11-22",
          "2023-11-23",
          "2023-11-24",
          "2023-11-25",
          "2023-11-26",
          "2023-11-27",
          "2023-11-28",
          "2023-11-29",
          "2023-11-30",
          "2023-12-01",
          "2023-12-02",
          "2023-12-03",
          "2023-12-04",
          "2023-12-05",
          "2023-12-06",
          "2023-12-07",
          "2023-12-08",
          "2023-12-09",
          "2023-12-10"
         ],
         "xaxis": "x4",
         "y": [
          62.857142857142854,
          66.28571428571429,
          69.57142857142857,
          72.42857142857143,
          75.28571428571429,
          77.85714285714286,
          79.57142857142857,
          80.57142857142857,
          81,
          81,
          83.14285714285714,
          85,
          87.28571428571429,
          91.14285714285714,
          93.85714285714286,
          95.71428571428571,
          97.14285714285714,
          96.85714285714286,
          97.28571428571429,
          96.71428571428571,
          96.14285714285714,
          97.57142857142857,
          100,
          102.85714285714286,
          106.14285714285714,
          109.85714285714286,
          113.71428571428571,
          115.28571428571429,
          114.85714285714286,
          112.85714285714286,
          111.85714285714286,
          111.57142857142857,
          110
         ],
         "yaxis": "y4"
        }
       ],
       "layout": {
        "annotations": [
         {
          "font": {
           "size": 16
          },
          "showarrow": false,
          "text": "Daily COVID-19 Infections for ON",
          "x": 0.225,
          "xanchor": "center",
          "xref": "paper",
          "y": 1,
          "yanchor": "bottom",
          "yref": "paper"
         },
         {
          "font": {
           "size": 16
          },
          "showarrow": false,
          "text": "COVID-19 Deaths per Day for ON",
          "x": 0.775,
          "xanchor": "center",
          "xref": "paper",
          "y": 1,
          "yanchor": "bottom",
          "yref": "paper"
         },
         {
          "font": {
           "size": 16
          },
          "showarrow": false,
          "text": "COVID-19 Hospitalizations for ON",
          "x": 0.225,
          "xanchor": "center",
          "xref": "paper",
          "y": 0.375,
          "yanchor": "bottom",
          "yref": "paper"
         },
         {
          "font": {
           "size": 16
          },
          "showarrow": false,
          "text": "COVID-19 ICU Occupancies for ON",
          "x": 0.775,
          "xanchor": "center",
          "xref": "paper",
          "y": 0.375,
          "yanchor": "bottom",
          "yref": "paper"
         }
        ],
        "height": 1600,
        "showlegend": true,
        "template": {
         "data": {
          "bar": [
           {
            "error_x": {
             "color": "#2a3f5f"
            },
            "error_y": {
             "color": "#2a3f5f"
            },
            "marker": {
             "line": {
              "color": "#E5ECF6",
              "width": 0.5
             },
             "pattern": {
              "fillmode": "overlay",
              "size": 10,
              "solidity": 0.2
             }
            },
            "type": "bar"
           }
          ],
          "barpolar": [
           {
            "marker": {
             "line": {
              "color": "#E5ECF6",
              "width": 0.5
             },
             "pattern": {
              "fillmode": "overlay",
              "size": 10,
              "solidity": 0.2
             }
            },
            "type": "barpolar"
           }
          ],
          "carpet": [
           {
            "aaxis": {
             "endlinecolor": "#2a3f5f",
             "gridcolor": "white",
             "linecolor": "white",
             "minorgridcolor": "white",
             "startlinecolor": "#2a3f5f"
            },
            "baxis": {
             "endlinecolor": "#2a3f5f",
             "gridcolor": "white",
             "linecolor": "white",
             "minorgridcolor": "white",
             "startlinecolor": "#2a3f5f"
            },
            "type": "carpet"
           }
          ],
          "choropleth": [
           {
            "colorbar": {
             "outlinewidth": 0,
             "ticks": ""
            },
            "type": "choropleth"
           }
          ],
          "contour": [
           {
            "colorbar": {
             "outlinewidth": 0,
             "ticks": ""
            },
            "colorscale": [
             [
              0,
              "#0d0887"
             ],
             [
              0.1111111111111111,
              "#46039f"
             ],
             [
              0.2222222222222222,
              "#7201a8"
             ],
             [
              0.3333333333333333,
              "#9c179e"
             ],
             [
              0.4444444444444444,
              "#bd3786"
             ],
             [
              0.5555555555555556,
              "#d8576b"
             ],
             [
              0.6666666666666666,
              "#ed7953"
             ],
             [
              0.7777777777777778,
              "#fb9f3a"
             ],
             [
              0.8888888888888888,
              "#fdca26"
             ],
             [
              1,
              "#f0f921"
             ]
            ],
            "type": "contour"
           }
          ],
          "contourcarpet": [
           {
            "colorbar": {
             "outlinewidth": 0,
             "ticks": ""
            },
            "type": "contourcarpet"
           }
          ],
          "heatmap": [
           {
            "colorbar": {
             "outlinewidth": 0,
             "ticks": ""
            },
            "colorscale": [
             [
              0,
              "#0d0887"
             ],
             [
              0.1111111111111111,
              "#46039f"
             ],
             [
              0.2222222222222222,
              "#7201a8"
             ],
             [
              0.3333333333333333,
              "#9c179e"
             ],
             [
              0.4444444444444444,
              "#bd3786"
             ],
             [
              0.5555555555555556,
              "#d8576b"
             ],
             [
              0.6666666666666666,
              "#ed7953"
             ],
             [
              0.7777777777777778,
              "#fb9f3a"
             ],
             [
              0.8888888888888888,
              "#fdca26"
             ],
             [
              1,
              "#f0f921"
             ]
            ],
            "type": "heatmap"
           }
          ],
          "heatmapgl": [
           {
            "colorbar": {
             "outlinewidth": 0,
             "ticks": ""
            },
            "colorscale": [
             [
              0,
              "#0d0887"
             ],
             [
              0.1111111111111111,
              "#46039f"
             ],
             [
              0.2222222222222222,
              "#7201a8"
             ],
             [
              0.3333333333333333,
              "#9c179e"
             ],
             [
              0.4444444444444444,
              "#bd3786"
             ],
             [
              0.5555555555555556,
              "#d8576b"
             ],
             [
              0.6666666666666666,
              "#ed7953"
             ],
             [
              0.7777777777777778,
              "#fb9f3a"
             ],
             [
              0.8888888888888888,
              "#fdca26"
             ],
             [
              1,
              "#f0f921"
             ]
            ],
            "type": "heatmapgl"
           }
          ],
          "histogram": [
           {
            "marker": {
             "pattern": {
              "fillmode": "overlay",
              "size": 10,
              "solidity": 0.2
             }
            },
            "type": "histogram"
           }
          ],
          "histogram2d": [
           {
            "colorbar": {
             "outlinewidth": 0,
             "ticks": ""
            },
            "colorscale": [
             [
              0,
              "#0d0887"
             ],
             [
              0.1111111111111111,
              "#46039f"
             ],
             [
              0.2222222222222222,
              "#7201a8"
             ],
             [
              0.3333333333333333,
              "#9c179e"
             ],
             [
              0.4444444444444444,
              "#bd3786"
             ],
             [
              0.5555555555555556,
              "#d8576b"
             ],
             [
              0.6666666666666666,
              "#ed7953"
             ],
             [
              0.7777777777777778,
              "#fb9f3a"
             ],
             [
              0.8888888888888888,
              "#fdca26"
             ],
             [
              1,
              "#f0f921"
             ]
            ],
            "type": "histogram2d"
           }
          ],
          "histogram2dcontour": [
           {
            "colorbar": {
             "outlinewidth": 0,
             "ticks": ""
            },
            "colorscale": [
             [
              0,
              "#0d0887"
             ],
             [
              0.1111111111111111,
              "#46039f"
             ],
             [
              0.2222222222222222,
              "#7201a8"
             ],
             [
              0.3333333333333333,
              "#9c179e"
             ],
             [
              0.4444444444444444,
              "#bd3786"
             ],
             [
              0.5555555555555556,
              "#d8576b"
             ],
             [
              0.6666666666666666,
              "#ed7953"
             ],
             [
              0.7777777777777778,
              "#fb9f3a"
             ],
             [
              0.8888888888888888,
              "#fdca26"
             ],
             [
              1,
              "#f0f921"
             ]
            ],
            "type": "histogram2dcontour"
           }
          ],
          "mesh3d": [
           {
            "colorbar": {
             "outlinewidth": 0,
             "ticks": ""
            },
            "type": "mesh3d"
           }
          ],
          "parcoords": [
           {
            "line": {
             "colorbar": {
              "outlinewidth": 0,
              "ticks": ""
             }
            },
            "type": "parcoords"
           }
          ],
          "pie": [
           {
            "automargin": true,
            "type": "pie"
           }
          ],
          "scatter": [
           {
            "fillpattern": {
             "fillmode": "overlay",
             "size": 10,
             "solidity": 0.2
            },
            "type": "scatter"
           }
          ],
          "scatter3d": [
           {
            "line": {
             "colorbar": {
              "outlinewidth": 0,
              "ticks": ""
             }
            },
            "marker": {
             "colorbar": {
              "outlinewidth": 0,
              "ticks": ""
             }
            },
            "type": "scatter3d"
           }
          ],
          "scattercarpet": [
           {
            "marker": {
             "colorbar": {
              "outlinewidth": 0,
              "ticks": ""
             }
            },
            "type": "scattercarpet"
           }
          ],
          "scattergeo": [
           {
            "marker": {
             "colorbar": {
              "outlinewidth": 0,
              "ticks": ""
             }
            },
            "type": "scattergeo"
           }
          ],
          "scattergl": [
           {
            "marker": {
             "colorbar": {
              "outlinewidth": 0,
              "ticks": ""
             }
            },
            "type": "scattergl"
           }
          ],
          "scattermapbox": [
           {
            "marker": {
             "colorbar": {
              "outlinewidth": 0,
              "ticks": ""
             }
            },
            "type": "scattermapbox"
           }
          ],
          "scatterpolar": [
           {
            "marker": {
             "colorbar": {
              "outlinewidth": 0,
              "ticks": ""
             }
            },
            "type": "scatterpolar"
           }
          ],
          "scatterpolargl": [
           {
            "marker": {
             "colorbar": {
              "outlinewidth": 0,
              "ticks": ""
             }
            },
            "type": "scatterpolargl"
           }
          ],
          "scatterternary": [
           {
            "marker": {
             "colorbar": {
              "outlinewidth": 0,
              "ticks": ""
             }
            },
            "type": "scatterternary"
           }
          ],
          "surface": [
           {
            "colorbar": {
             "outlinewidth": 0,
             "ticks": ""
            },
            "colorscale": [
             [
              0,
              "#0d0887"
             ],
             [
              0.1111111111111111,
              "#46039f"
             ],
             [
              0.2222222222222222,
              "#7201a8"
             ],
             [
              0.3333333333333333,
              "#9c179e"
             ],
             [
              0.4444444444444444,
              "#bd3786"
             ],
             [
              0.5555555555555556,
              "#d8576b"
             ],
             [
              0.6666666666666666,
              "#ed7953"
             ],
             [
              0.7777777777777778,
              "#fb9f3a"
             ],
             [
              0.8888888888888888,
              "#fdca26"
             ],
             [
              1,
              "#f0f921"
             ]
            ],
            "type": "surface"
           }
          ],
          "table": [
           {
            "cells": {
             "fill": {
              "color": "#EBF0F8"
             },
             "line": {
              "color": "white"
             }
            },
            "header": {
             "fill": {
              "color": "#C8D4E3"
             },
             "line": {
              "color": "white"
             }
            },
            "type": "table"
           }
          ]
         },
         "layout": {
          "annotationdefaults": {
           "arrowcolor": "#2a3f5f",
           "arrowhead": 0,
           "arrowwidth": 1
          },
          "autotypenumbers": "strict",
          "coloraxis": {
           "colorbar": {
            "outlinewidth": 0,
            "ticks": ""
           }
          },
          "colorscale": {
           "diverging": [
            [
             0,
             "#8e0152"
            ],
            [
             0.1,
             "#c51b7d"
            ],
            [
             0.2,
             "#de77ae"
            ],
            [
             0.3,
             "#f1b6da"
            ],
            [
             0.4,
             "#fde0ef"
            ],
            [
             0.5,
             "#f7f7f7"
            ],
            [
             0.6,
             "#e6f5d0"
            ],
            [
             0.7,
             "#b8e186"
            ],
            [
             0.8,
             "#7fbc41"
            ],
            [
             0.9,
             "#4d9221"
            ],
            [
             1,
             "#276419"
            ]
           ],
           "sequential": [
            [
             0,
             "#0d0887"
            ],
            [
             0.1111111111111111,
             "#46039f"
            ],
            [
             0.2222222222222222,
             "#7201a8"
            ],
            [
             0.3333333333333333,
             "#9c179e"
            ],
            [
             0.4444444444444444,
             "#bd3786"
            ],
            [
             0.5555555555555556,
             "#d8576b"
            ],
            [
             0.6666666666666666,
             "#ed7953"
            ],
            [
             0.7777777777777778,
             "#fb9f3a"
            ],
            [
             0.8888888888888888,
             "#fdca26"
            ],
            [
             1,
             "#f0f921"
            ]
           ],
           "sequentialminus": [
            [
             0,
             "#0d0887"
            ],
            [
             0.1111111111111111,
             "#46039f"
            ],
            [
             0.2222222222222222,
             "#7201a8"
            ],
            [
             0.3333333333333333,
             "#9c179e"
            ],
            [
             0.4444444444444444,
             "#bd3786"
            ],
            [
             0.5555555555555556,
             "#d8576b"
            ],
            [
             0.6666666666666666,
             "#ed7953"
            ],
            [
             0.7777777777777778,
             "#fb9f3a"
            ],
            [
             0.8888888888888888,
             "#fdca26"
            ],
            [
             1,
             "#f0f921"
            ]
           ]
          },
          "colorway": [
           "#636efa",
           "#EF553B",
           "#00cc96",
           "#ab63fa",
           "#FFA15A",
           "#19d3f3",
           "#FF6692",
           "#B6E880",
           "#FF97FF",
           "#FECB52"
          ],
          "font": {
           "color": "#2a3f5f"
          },
          "geo": {
           "bgcolor": "white",
           "lakecolor": "white",
           "landcolor": "#E5ECF6",
           "showlakes": true,
           "showland": true,
           "subunitcolor": "white"
          },
          "hoverlabel": {
           "align": "left"
          },
          "hovermode": "closest",
          "mapbox": {
           "style": "light"
          },
          "paper_bgcolor": "white",
          "plot_bgcolor": "#E5ECF6",
          "polar": {
           "angularaxis": {
            "gridcolor": "white",
            "linecolor": "white",
            "ticks": ""
           },
           "bgcolor": "#E5ECF6",
           "radialaxis": {
            "gridcolor": "white",
            "linecolor": "white",
            "ticks": ""
           }
          },
          "scene": {
           "xaxis": {
            "backgroundcolor": "#E5ECF6",
            "gridcolor": "white",
            "gridwidth": 2,
            "linecolor": "white",
            "showbackground": true,
            "ticks": "",
            "zerolinecolor": "white"
           },
           "yaxis": {
            "backgroundcolor": "#E5ECF6",
            "gridcolor": "white",
            "gridwidth": 2,
            "linecolor": "white",
            "showbackground": true,
            "ticks": "",
            "zerolinecolor": "white"
           },
           "zaxis": {
            "backgroundcolor": "#E5ECF6",
            "gridcolor": "white",
            "gridwidth": 2,
            "linecolor": "white",
            "showbackground": true,
            "ticks": "",
            "zerolinecolor": "white"
           }
          },
          "shapedefaults": {
           "line": {
            "color": "#2a3f5f"
           }
          },
          "ternary": {
           "aaxis": {
            "gridcolor": "white",
            "linecolor": "white",
            "ticks": ""
           },
           "baxis": {
            "gridcolor": "white",
            "linecolor": "white",
            "ticks": ""
           },
           "bgcolor": "#E5ECF6",
           "caxis": {
            "gridcolor": "white",
            "linecolor": "white",
            "ticks": ""
           }
          },
          "title": {
           "x": 0.05
          },
          "xaxis": {
           "automargin": true,
           "gridcolor": "white",
           "linecolor": "white",
           "ticks": "",
           "title": {
            "standoff": 15
           },
           "zerolinecolor": "white",
           "zerolinewidth": 2
          },
          "yaxis": {
           "automargin": true,
           "gridcolor": "white",
           "linecolor": "white",
           "ticks": "",
           "title": {
            "standoff": 15
           },
           "zerolinecolor": "white",
           "zerolinewidth": 2
          }
         }
        },
        "title": {
         "text": "COVID-19 Data for ON"
        },
        "width": 1600,
        "xaxis": {
         "anchor": "y",
         "domain": [
          0,
          0.45
         ]
        },
        "xaxis2": {
         "anchor": "y2",
         "domain": [
          0.55,
          1
         ]
        },
        "xaxis3": {
         "anchor": "y3",
         "domain": [
          0,
          0.45
         ]
        },
        "xaxis4": {
         "anchor": "y4",
         "domain": [
          0.55,
          1
         ]
        },
        "yaxis": {
         "anchor": "x",
         "domain": [
          0.625,
          1
         ]
        },
        "yaxis2": {
         "anchor": "x2",
         "domain": [
          0.625,
          1
         ]
        },
        "yaxis3": {
         "anchor": "x3",
         "domain": [
          0,
          0.375
         ]
        },
        "yaxis4": {
         "anchor": "x4",
         "domain": [
          0,
          0.375
         ]
        }
       }
      }
     },
     "metadata": {},
     "output_type": "display_data"
    }
   ],
   "source": [
    "if geographic_data_level != 'hr':\n",
    "    # Create a 2x2 subplot layout for higher geographic levels\n",
    "    fig = make_subplots(rows=2, cols=2, subplot_titles=(f'Daily COVID-19 Infections for {location_ID}',\n",
    "                                                        f'COVID-19 Deaths per Day for {location_ID}',\n",
    "                                                        f'COVID-19 Hospitalizations for {location_ID}',\n",
    "                                                        f'COVID-19 ICU Occupancies for {location_ID}'))\n",
    "else:\n",
    "    # Create a 2x1 subplot layout for health regions\n",
    "    fig = make_subplots(rows=2, cols=1, subplot_titles=(f'Daily COVID-19 Infections for {location_ID}',\n",
    "                                                        f'COVID-19 Deaths per Day for {location_ID}'))\n",
    "    \n",
    "case_dates, n_cases, cases_dates_rolling, cases_rolling = subquery_data('cases', result_data, 'value_daily')\n",
    "\n",
    "# Creating the case data plot\n",
    "fig.add_trace(go.Scatter(x=case_dates, y=n_cases, mode='lines+markers', name='Daily Cases', marker=dict(color='blue'), \n",
    "                         hovertemplate='Daily Cases: %{y}<extra></extra>'), row=1, col=1)\n",
    "fig.add_trace(go.Scatter(x=cases_dates_rolling, y=cases_rolling, mode='lines', name='7-day Rolling Average of Cases', \n",
    "                         line=dict(color='red'), hovertemplate='7-day Rolling Average of Cases: %{y}<extra></extra>'), row=1, col=1)\n",
    "\n",
    "death_dates, n_deaths = subquery_data('deaths', result_data, 'value_daily')\n",
    "\n",
    "# Creating the death data plot\n",
    "fig.add_trace(go.Bar(x=death_dates, y=n_deaths, name='Daily Deaths', hovertemplate='Daily Deaths: %{y}<extra></extra>'), row=1, col=2)\n",
    "\n",
    "if geographic_data_level != 'hr':\n",
    "    hosp_dates, n_hosp, hosp_dates_rolling, hosp_rolling = subquery_data('hospitalizations', result_data, 'value')\n",
    "\n",
    "    # Creating the hospitalization plot\n",
    "    fig.add_trace(go.Scatter(x=hosp_dates, y=n_hosp, mode='lines+markers', name='Actively Hospitalized Patients', marker=dict(color='blue'), \n",
    "                             hovertemplate='Actively Hospitalized Patients: %{y}<extra></extra>'), row=2, col=1)\n",
    "    fig.add_trace(go.Scatter(x=hosp_dates_rolling, y=hosp_rolling, mode='lines', name='7-day Rolling Average of Active Hospitalizations', \n",
    "                             line=dict(color='red'), hovertemplate='7-day Rolling Average of ACtive Hospitalizations: %{y}<extra></extra>'), row=2, col=1)\n",
    "\n",
    "if geographic_data_level != 'hr':\n",
    "    icu_dates, n_icu, icu_dates_rolling, icu_rolling = subquery_data('icu', result_data, 'value')\n",
    "\n",
    "    # Creating the ICU plot\n",
    "    fig.add_trace(go.Scatter(x=icu_dates, y=n_icu, mode='lines+markers', name='Number of Patients in ICU', marker=dict(color='blue'), \n",
    "                             hovertemplate='Number of Patients in ICU: %{y}<extra></extra>'), row=2, col=2)\n",
    "    fig.add_trace(go.Scatter(x=icu_dates_rolling, y=icu_rolling, mode='lines', name='7-day Rolling Average of ICU Occupancies', \n",
    "                             line=dict(color='red'), hovertemplate='7-day Rolling Average of ICU Occupancies: %{y}<extra></extra>'), row=2, col=2)\n",
    "\n",
    "# Update layout if necessary, e.g., for setting a common x-axis title\n",
    "fig.update_layout(height=1600, width=1600, title_text=f\"COVID-19 Data for {location_ID}\", showlegend=True)\n",
    "\n",
    "# Show the figure\n",
    "fig.show()"
   ]
  },
  {
   "cell_type": "markdown",
   "metadata": {},
   "source": [
    "Already, our visualization is looking a lot better, but we can get a *little* more information out of the data we now have. Let's create a forecast for the next 30 days for each of our plots, using ARIMA models for each plotted value. "
   ]
  },
  {
   "cell_type": "code",
   "execution_count": 196,
   "metadata": {},
   "outputs": [
    {
     "data": {
      "application/vnd.plotly.v1+json": {
       "config": {
        "plotlyServerURL": "https://plot.ly"
       },
       "data": [
        {
         "hovertemplate": "Daily Cases: %{y}<extra></extra>",
         "marker": {
          "color": "blue"
         },
         "mode": "lines+markers",
         "name": "Daily Cases",
         "type": "scatter",
         "x": [
          "2023-11-01",
          "2023-11-02",
          "2023-11-03",
          "2023-11-04",
          "2023-11-05",
          "2023-11-06",
          "2023-11-07",
          "2023-11-08",
          "2023-11-09",
          "2023-11-10",
          "2023-11-11",
          "2023-11-12",
          "2023-11-13",
          "2023-11-14",
          "2023-11-15",
          "2023-11-16",
          "2023-11-17",
          "2023-11-18",
          "2023-11-19",
          "2023-11-20",
          "2023-11-21",
          "2023-11-22",
          "2023-11-23",
          "2023-11-24",
          "2023-11-25",
          "2023-11-26",
          "2023-11-27",
          "2023-11-28",
          "2023-11-29",
          "2023-11-30",
          "2023-12-01",
          "2023-12-02",
          "2023-12-03",
          "2023-12-04",
          "2023-12-05",
          "2023-12-06",
          "2023-12-07",
          "2023-12-08",
          "2023-12-09",
          "2023-12-10"
         ],
         "xaxis": "x",
         "y": [
          631,
          523,
          426,
          466,
          317,
          429,
          628,
          593,
          581,
          542,
          365,
          316,
          458,
          652,
          790,
          695,
          700,
          511,
          350,
          719,
          780,
          770,
          651,
          743,
          517,
          452,
          552,
          751,
          769,
          608,
          605,
          492,
          432,
          452,
          681,
          665,
          644,
          736,
          452,
          456
         ],
         "yaxis": "y"
        },
        {
         "hovertemplate": "7-day Rolling Average of Cases: %{y}<extra></extra>",
         "line": {
          "color": "red"
         },
         "mode": "lines",
         "name": "7-day Rolling Average of Cases",
         "type": "scatter",
         "x": [
          "2023-11-08",
          "2023-11-09",
          "2023-11-10",
          "2023-11-11",
          "2023-11-12",
          "2023-11-13",
          "2023-11-14",
          "2023-11-15",
          "2023-11-16",
          "2023-11-17",
          "2023-11-18",
          "2023-11-19",
          "2023-11-20",
          "2023-11-21",
          "2023-11-22",
          "2023-11-23",
          "2023-11-24",
          "2023-11-25",
          "2023-11-26",
          "2023-11-27",
          "2023-11-28",
          "2023-11-29",
          "2023-11-30",
          "2023-12-01",
          "2023-12-02",
          "2023-12-03",
          "2023-12-04",
          "2023-12-05",
          "2023-12-06",
          "2023-12-07",
          "2023-12-08",
          "2023-12-09",
          "2023-12-10"
         ],
         "xaxis": "x",
         "y": [
          488.57142857142856,
          483.14285714285717,
          491.42857142857144,
          508,
          493.57142857142856,
          493.42857142857144,
          497.57142857142856,
          501,
          529.1428571428571,
          545.4285714285714,
          568,
          588.8571428571429,
          593.7142857142857,
          631,
          649.2857142857143,
          646.4285714285714,
          640.1428571428571,
          646.2857142857143,
          647.1428571428571,
          661.7142857142857,
          637.8571428571429,
          633.7142857142857,
          633.5714285714286,
          627.4285714285714,
          607.7142857142857,
          604.1428571428571,
          601.2857142857143,
          587,
          577,
          562.1428571428571,
          567.2857142857143,
          586,
          580.2857142857143
         ],
         "yaxis": "y"
        },
        {
         "hovertemplate": "Daily Deaths: %{y}<extra></extra>",
         "name": "Daily Deaths",
         "type": "bar",
         "x": [
          "2023-11-01",
          "2023-11-02",
          "2023-11-03",
          "2023-11-04",
          "2023-11-05",
          "2023-11-06",
          "2023-11-07",
          "2023-11-08",
          "2023-11-09",
          "2023-11-10",
          "2023-11-11",
          "2023-11-12",
          "2023-11-13",
          "2023-11-14",
          "2023-11-15",
          "2023-11-16",
          "2023-11-17",
          "2023-11-18",
          "2023-11-19",
          "2023-11-20",
          "2023-11-21",
          "2023-11-22",
          "2023-11-23",
          "2023-11-24",
          "2023-11-25",
          "2023-11-26",
          "2023-11-27",
          "2023-11-28",
          "2023-11-29",
          "2023-11-30",
          "2023-12-01",
          "2023-12-02",
          "2023-12-03",
          "2023-12-04",
          "2023-12-05",
          "2023-12-06",
          "2023-12-07",
          "2023-12-08",
          "2023-12-09",
          "2023-12-10"
         ],
         "xaxis": "x2",
         "y": [
          11,
          5,
          7,
          4,
          11,
          7,
          7,
          3,
          8,
          5,
          10,
          6,
          7,
          12,
          13,
          8,
          10,
          8,
          9,
          6,
          6,
          9,
          10,
          5,
          6,
          9,
          4,
          7,
          9,
          3,
          6,
          6,
          12,
          2,
          6,
          2,
          10,
          4,
          4,
          3
         ],
         "yaxis": "y2"
        },
        {
         "hovertemplate": "Actively Hospitalized Patients: %{y}<extra></extra>",
         "marker": {
          "color": "blue"
         },
         "mode": "lines+markers",
         "name": "Actively Hospitalized Patients",
         "type": "scatter",
         "x": [
          "2023-11-01",
          "2023-11-02",
          "2023-11-03",
          "2023-11-04",
          "2023-11-05",
          "2023-11-06",
          "2023-11-07",
          "2023-11-08",
          "2023-11-09",
          "2023-11-10",
          "2023-11-11",
          "2023-11-12",
          "2023-11-13",
          "2023-11-14",
          "2023-11-15",
          "2023-11-16",
          "2023-11-17",
          "2023-11-18",
          "2023-11-19",
          "2023-11-20",
          "2023-11-21",
          "2023-11-22",
          "2023-11-23",
          "2023-11-24",
          "2023-11-25",
          "2023-11-26",
          "2023-11-27",
          "2023-11-28",
          "2023-11-29",
          "2023-11-30",
          "2023-12-01",
          "2023-12-02",
          "2023-12-03",
          "2023-12-04",
          "2023-12-05",
          "2023-12-06",
          "2023-12-07",
          "2023-12-08",
          "2023-12-09",
          "2023-12-10"
         ],
         "xaxis": "x3",
         "y": [
          1091,
          1077,
          1060,
          1055,
          1127,
          1139,
          1138,
          1166,
          1169,
          1110,
          1176,
          1169,
          1286,
          1251,
          1337,
          1371,
          1402,
          1515,
          1600,
          1627,
          1652,
          1645,
          1731,
          1710,
          1688,
          1816,
          1798,
          1763,
          1786,
          1696,
          1623,
          1660,
          1706,
          1666,
          1619,
          1533,
          1439,
          1470,
          1521,
          1605
         ],
         "yaxis": "y3"
        },
        {
         "hovertemplate": "7-day Rolling Average of ACtive Hospitalizations: %{y}<extra></extra>",
         "line": {
          "color": "red"
         },
         "mode": "lines",
         "name": "7-day Rolling Average of Active Hospitalizations",
         "type": "scatter",
         "x": [
          "2023-11-08",
          "2023-11-09",
          "2023-11-10",
          "2023-11-11",
          "2023-11-12",
          "2023-11-13",
          "2023-11-14",
          "2023-11-15",
          "2023-11-16",
          "2023-11-17",
          "2023-11-18",
          "2023-11-19",
          "2023-11-20",
          "2023-11-21",
          "2023-11-22",
          "2023-11-23",
          "2023-11-24",
          "2023-11-25",
          "2023-11-26",
          "2023-11-27",
          "2023-11-28",
          "2023-11-29",
          "2023-11-30",
          "2023-12-01",
          "2023-12-02",
          "2023-12-03",
          "2023-12-04",
          "2023-12-05",
          "2023-12-06",
          "2023-12-07",
          "2023-12-08",
          "2023-12-09",
          "2023-12-10"
         ],
         "xaxis": "x3",
         "y": [
          1098.142857142857,
          1108.857142857143,
          1122,
          1129.142857142857,
          1146.4285714285713,
          1152.4285714285713,
          1173.4285714285713,
          1189.5714285714287,
          1214,
          1242.857142857143,
          1284.5714285714287,
          1333,
          1394.5714285714287,
          1443.2857142857142,
          1500.5714285714287,
          1544.5714285714287,
          1596,
          1640,
          1664.7142857142858,
          1695.5714285714287,
          1720,
          1735.857142857143,
          1756,
          1751,
          1738.5714285714287,
          1734.5714285714287,
          1718.857142857143,
          1700,
          1679.4285714285713,
          1643.2857142857142,
          1606.5714285714287,
          1584.7142857142858,
          1564.857142857143
         ],
         "yaxis": "y3"
        },
        {
         "hovertemplate": "Number of Patients in ICU: %{y}<extra></extra>",
         "marker": {
          "color": "blue"
         },
         "mode": "lines+markers",
         "name": "Number of Patients in ICU",
         "type": "scatter",
         "x": [
          "2023-11-01",
          "2023-11-02",
          "2023-11-03",
          "2023-11-04",
          "2023-11-05",
          "2023-11-06",
          "2023-11-07",
          "2023-11-08",
          "2023-11-09",
          "2023-11-10",
          "2023-11-11",
          "2023-11-12",
          "2023-11-13",
          "2023-11-14",
          "2023-11-15",
          "2023-11-16",
          "2023-11-17",
          "2023-11-18",
          "2023-11-19",
          "2023-11-20",
          "2023-11-21",
          "2023-11-22",
          "2023-11-23",
          "2023-11-24",
          "2023-11-25",
          "2023-11-26",
          "2023-11-27",
          "2023-11-28",
          "2023-11-29",
          "2023-11-30",
          "2023-12-01",
          "2023-12-02",
          "2023-12-03",
          "2023-12-04",
          "2023-12-05",
          "2023-12-06",
          "2023-12-07",
          "2023-12-08",
          "2023-12-09",
          "2023-12-10"
         ],
         "xaxis": "x4",
         "y": [
          57,
          61,
          57,
          58,
          63,
          67,
          77,
          81,
          84,
          77,
          78,
          81,
          79,
          84,
          84,
          84,
          92,
          91,
          97,
          106,
          103,
          97,
          94,
          90,
          94,
          93,
          102,
          113,
          114,
          114,
          113,
          120,
          120,
          113,
          110,
          100,
          107,
          111,
          109,
          113
         ],
         "yaxis": "y4"
        },
        {
         "hovertemplate": "7-day Rolling Average of ICU Occupancies: %{y}<extra></extra>",
         "line": {
          "color": "red"
         },
         "mode": "lines",
         "name": "7-day Rolling Average of ICU Occupancies",
         "type": "scatter",
         "x": [
          "2023-11-08",
          "2023-11-09",
          "2023-11-10",
          "2023-11-11",
          "2023-11-12",
          "2023-11-13",
          "2023-11-14",
          "2023-11-15",
          "2023-11-16",
          "2023-11-17",
          "2023-11-18",
          "2023-11-19",
          "2023-11-20",
          "2023-11-21",
          "2023-11-22",
          "2023-11-23",
          "2023-11-24",
          "2023-11-25",
          "2023-11-26",
          "2023-11-27",
          "2023-11-28",
          "2023-11-29",
          "2023-11-30",
          "2023-12-01",
          "2023-12-02",
          "2023-12-03",
          "2023-12-04",
          "2023-12-05",
          "2023-12-06",
          "2023-12-07",
          "2023-12-08",
          "2023-12-09",
          "2023-12-10"
         ],
         "xaxis": "x4",
         "y": [
          62.857142857142854,
          66.28571428571429,
          69.57142857142857,
          72.42857142857143,
          75.28571428571429,
          77.85714285714286,
          79.57142857142857,
          80.57142857142857,
          81,
          81,
          83.14285714285714,
          85,
          87.28571428571429,
          91.14285714285714,
          93.85714285714286,
          95.71428571428571,
          97.14285714285714,
          96.85714285714286,
          97.28571428571429,
          96.71428571428571,
          96.14285714285714,
          97.57142857142857,
          100,
          102.85714285714286,
          106.14285714285714,
          109.85714285714286,
          113.71428571428571,
          115.28571428571429,
          114.85714285714286,
          112.85714285714286,
          111.85714285714286,
          111.57142857142857,
          110
         ],
         "yaxis": "y4"
        },
        {
         "hovertemplate": "Forecasted Cases: %{y}<extra></extra>",
         "line": {
          "color": "green",
          "dash": "dash"
         },
         "mode": "lines",
         "name": "Forecasted Cases",
         "type": "scatter",
         "x": [
          "2023-12-11T00:00:00",
          "2023-12-12T00:00:00",
          "2023-12-13T00:00:00",
          "2023-12-14T00:00:00",
          "2023-12-15T00:00:00",
          "2023-12-16T00:00:00",
          "2023-12-17T00:00:00",
          "2023-12-18T00:00:00",
          "2023-12-19T00:00:00",
          "2023-12-20T00:00:00",
          "2023-12-21T00:00:00",
          "2023-12-22T00:00:00",
          "2023-12-23T00:00:00",
          "2023-12-24T00:00:00",
          "2023-12-25T00:00:00",
          "2023-12-26T00:00:00",
          "2023-12-27T00:00:00",
          "2023-12-28T00:00:00",
          "2023-12-29T00:00:00",
          "2023-12-30T00:00:00",
          "2023-12-31T00:00:00",
          "2024-01-01T00:00:00",
          "2024-01-02T00:00:00",
          "2024-01-03T00:00:00",
          "2024-01-04T00:00:00",
          "2024-01-05T00:00:00",
          "2024-01-06T00:00:00",
          "2024-01-07T00:00:00",
          "2024-01-08T00:00:00",
          "2024-01-09T00:00:00"
         ],
         "xaxis": "x",
         "y": [
          578.9851562943744,
          616.6709904891801,
          623.1214024629835,
          713.2074108726467,
          601.1821032776817,
          504.52329320779637,
          533.8368011826848,
          570.6136832950781,
          584.042936118394,
          659.6162899733513,
          652.4408553841397,
          577.0939226208225,
          549.2358842015977,
          555.974286835972,
          558.2219573598892,
          605.6385150297549,
          641.5236131841358,
          616.7751872788381,
          583.3311160898347,
          569.0548138452995,
          556.5478224385361,
          573.0330898585863,
          609.5102541301737,
          619.3798827312809,
          605.0341449015247,
          589.632940490816,
          571.3438139178884,
          565.7398675648877,
          584.3996540682114,
          603.6339070517208
         ],
         "yaxis": "y"
        }
       ],
       "layout": {
        "annotations": [
         {
          "font": {
           "size": 16
          },
          "showarrow": false,
          "text": "Daily COVID-19 Infections for ON",
          "x": 0.225,
          "xanchor": "center",
          "xref": "paper",
          "y": 1,
          "yanchor": "bottom",
          "yref": "paper"
         },
         {
          "font": {
           "size": 16
          },
          "showarrow": false,
          "text": "COVID-19 Deaths per Day for ON",
          "x": 0.775,
          "xanchor": "center",
          "xref": "paper",
          "y": 1,
          "yanchor": "bottom",
          "yref": "paper"
         },
         {
          "font": {
           "size": 16
          },
          "showarrow": false,
          "text": "COVID-19 Hospitalizations for ON",
          "x": 0.225,
          "xanchor": "center",
          "xref": "paper",
          "y": 0.375,
          "yanchor": "bottom",
          "yref": "paper"
         },
         {
          "font": {
           "size": 16
          },
          "showarrow": false,
          "text": "COVID-19 ICU Occupancies for ON",
          "x": 0.775,
          "xanchor": "center",
          "xref": "paper",
          "y": 0.375,
          "yanchor": "bottom",
          "yref": "paper"
         }
        ],
        "height": 1600,
        "showlegend": true,
        "template": {
         "data": {
          "bar": [
           {
            "error_x": {
             "color": "#2a3f5f"
            },
            "error_y": {
             "color": "#2a3f5f"
            },
            "marker": {
             "line": {
              "color": "#E5ECF6",
              "width": 0.5
             },
             "pattern": {
              "fillmode": "overlay",
              "size": 10,
              "solidity": 0.2
             }
            },
            "type": "bar"
           }
          ],
          "barpolar": [
           {
            "marker": {
             "line": {
              "color": "#E5ECF6",
              "width": 0.5
             },
             "pattern": {
              "fillmode": "overlay",
              "size": 10,
              "solidity": 0.2
             }
            },
            "type": "barpolar"
           }
          ],
          "carpet": [
           {
            "aaxis": {
             "endlinecolor": "#2a3f5f",
             "gridcolor": "white",
             "linecolor": "white",
             "minorgridcolor": "white",
             "startlinecolor": "#2a3f5f"
            },
            "baxis": {
             "endlinecolor": "#2a3f5f",
             "gridcolor": "white",
             "linecolor": "white",
             "minorgridcolor": "white",
             "startlinecolor": "#2a3f5f"
            },
            "type": "carpet"
           }
          ],
          "choropleth": [
           {
            "colorbar": {
             "outlinewidth": 0,
             "ticks": ""
            },
            "type": "choropleth"
           }
          ],
          "contour": [
           {
            "colorbar": {
             "outlinewidth": 0,
             "ticks": ""
            },
            "colorscale": [
             [
              0,
              "#0d0887"
             ],
             [
              0.1111111111111111,
              "#46039f"
             ],
             [
              0.2222222222222222,
              "#7201a8"
             ],
             [
              0.3333333333333333,
              "#9c179e"
             ],
             [
              0.4444444444444444,
              "#bd3786"
             ],
             [
              0.5555555555555556,
              "#d8576b"
             ],
             [
              0.6666666666666666,
              "#ed7953"
             ],
             [
              0.7777777777777778,
              "#fb9f3a"
             ],
             [
              0.8888888888888888,
              "#fdca26"
             ],
             [
              1,
              "#f0f921"
             ]
            ],
            "type": "contour"
           }
          ],
          "contourcarpet": [
           {
            "colorbar": {
             "outlinewidth": 0,
             "ticks": ""
            },
            "type": "contourcarpet"
           }
          ],
          "heatmap": [
           {
            "colorbar": {
             "outlinewidth": 0,
             "ticks": ""
            },
            "colorscale": [
             [
              0,
              "#0d0887"
             ],
             [
              0.1111111111111111,
              "#46039f"
             ],
             [
              0.2222222222222222,
              "#7201a8"
             ],
             [
              0.3333333333333333,
              "#9c179e"
             ],
             [
              0.4444444444444444,
              "#bd3786"
             ],
             [
              0.5555555555555556,
              "#d8576b"
             ],
             [
              0.6666666666666666,
              "#ed7953"
             ],
             [
              0.7777777777777778,
              "#fb9f3a"
             ],
             [
              0.8888888888888888,
              "#fdca26"
             ],
             [
              1,
              "#f0f921"
             ]
            ],
            "type": "heatmap"
           }
          ],
          "heatmapgl": [
           {
            "colorbar": {
             "outlinewidth": 0,
             "ticks": ""
            },
            "colorscale": [
             [
              0,
              "#0d0887"
             ],
             [
              0.1111111111111111,
              "#46039f"
             ],
             [
              0.2222222222222222,
              "#7201a8"
             ],
             [
              0.3333333333333333,
              "#9c179e"
             ],
             [
              0.4444444444444444,
              "#bd3786"
             ],
             [
              0.5555555555555556,
              "#d8576b"
             ],
             [
              0.6666666666666666,
              "#ed7953"
             ],
             [
              0.7777777777777778,
              "#fb9f3a"
             ],
             [
              0.8888888888888888,
              "#fdca26"
             ],
             [
              1,
              "#f0f921"
             ]
            ],
            "type": "heatmapgl"
           }
          ],
          "histogram": [
           {
            "marker": {
             "pattern": {
              "fillmode": "overlay",
              "size": 10,
              "solidity": 0.2
             }
            },
            "type": "histogram"
           }
          ],
          "histogram2d": [
           {
            "colorbar": {
             "outlinewidth": 0,
             "ticks": ""
            },
            "colorscale": [
             [
              0,
              "#0d0887"
             ],
             [
              0.1111111111111111,
              "#46039f"
             ],
             [
              0.2222222222222222,
              "#7201a8"
             ],
             [
              0.3333333333333333,
              "#9c179e"
             ],
             [
              0.4444444444444444,
              "#bd3786"
             ],
             [
              0.5555555555555556,
              "#d8576b"
             ],
             [
              0.6666666666666666,
              "#ed7953"
             ],
             [
              0.7777777777777778,
              "#fb9f3a"
             ],
             [
              0.8888888888888888,
              "#fdca26"
             ],
             [
              1,
              "#f0f921"
             ]
            ],
            "type": "histogram2d"
           }
          ],
          "histogram2dcontour": [
           {
            "colorbar": {
             "outlinewidth": 0,
             "ticks": ""
            },
            "colorscale": [
             [
              0,
              "#0d0887"
             ],
             [
              0.1111111111111111,
              "#46039f"
             ],
             [
              0.2222222222222222,
              "#7201a8"
             ],
             [
              0.3333333333333333,
              "#9c179e"
             ],
             [
              0.4444444444444444,
              "#bd3786"
             ],
             [
              0.5555555555555556,
              "#d8576b"
             ],
             [
              0.6666666666666666,
              "#ed7953"
             ],
             [
              0.7777777777777778,
              "#fb9f3a"
             ],
             [
              0.8888888888888888,
              "#fdca26"
             ],
             [
              1,
              "#f0f921"
             ]
            ],
            "type": "histogram2dcontour"
           }
          ],
          "mesh3d": [
           {
            "colorbar": {
             "outlinewidth": 0,
             "ticks": ""
            },
            "type": "mesh3d"
           }
          ],
          "parcoords": [
           {
            "line": {
             "colorbar": {
              "outlinewidth": 0,
              "ticks": ""
             }
            },
            "type": "parcoords"
           }
          ],
          "pie": [
           {
            "automargin": true,
            "type": "pie"
           }
          ],
          "scatter": [
           {
            "fillpattern": {
             "fillmode": "overlay",
             "size": 10,
             "solidity": 0.2
            },
            "type": "scatter"
           }
          ],
          "scatter3d": [
           {
            "line": {
             "colorbar": {
              "outlinewidth": 0,
              "ticks": ""
             }
            },
            "marker": {
             "colorbar": {
              "outlinewidth": 0,
              "ticks": ""
             }
            },
            "type": "scatter3d"
           }
          ],
          "scattercarpet": [
           {
            "marker": {
             "colorbar": {
              "outlinewidth": 0,
              "ticks": ""
             }
            },
            "type": "scattercarpet"
           }
          ],
          "scattergeo": [
           {
            "marker": {
             "colorbar": {
              "outlinewidth": 0,
              "ticks": ""
             }
            },
            "type": "scattergeo"
           }
          ],
          "scattergl": [
           {
            "marker": {
             "colorbar": {
              "outlinewidth": 0,
              "ticks": ""
             }
            },
            "type": "scattergl"
           }
          ],
          "scattermapbox": [
           {
            "marker": {
             "colorbar": {
              "outlinewidth": 0,
              "ticks": ""
             }
            },
            "type": "scattermapbox"
           }
          ],
          "scatterpolar": [
           {
            "marker": {
             "colorbar": {
              "outlinewidth": 0,
              "ticks": ""
             }
            },
            "type": "scatterpolar"
           }
          ],
          "scatterpolargl": [
           {
            "marker": {
             "colorbar": {
              "outlinewidth": 0,
              "ticks": ""
             }
            },
            "type": "scatterpolargl"
           }
          ],
          "scatterternary": [
           {
            "marker": {
             "colorbar": {
              "outlinewidth": 0,
              "ticks": ""
             }
            },
            "type": "scatterternary"
           }
          ],
          "surface": [
           {
            "colorbar": {
             "outlinewidth": 0,
             "ticks": ""
            },
            "colorscale": [
             [
              0,
              "#0d0887"
             ],
             [
              0.1111111111111111,
              "#46039f"
             ],
             [
              0.2222222222222222,
              "#7201a8"
             ],
             [
              0.3333333333333333,
              "#9c179e"
             ],
             [
              0.4444444444444444,
              "#bd3786"
             ],
             [
              0.5555555555555556,
              "#d8576b"
             ],
             [
              0.6666666666666666,
              "#ed7953"
             ],
             [
              0.7777777777777778,
              "#fb9f3a"
             ],
             [
              0.8888888888888888,
              "#fdca26"
             ],
             [
              1,
              "#f0f921"
             ]
            ],
            "type": "surface"
           }
          ],
          "table": [
           {
            "cells": {
             "fill": {
              "color": "#EBF0F8"
             },
             "line": {
              "color": "white"
             }
            },
            "header": {
             "fill": {
              "color": "#C8D4E3"
             },
             "line": {
              "color": "white"
             }
            },
            "type": "table"
           }
          ]
         },
         "layout": {
          "annotationdefaults": {
           "arrowcolor": "#2a3f5f",
           "arrowhead": 0,
           "arrowwidth": 1
          },
          "autotypenumbers": "strict",
          "coloraxis": {
           "colorbar": {
            "outlinewidth": 0,
            "ticks": ""
           }
          },
          "colorscale": {
           "diverging": [
            [
             0,
             "#8e0152"
            ],
            [
             0.1,
             "#c51b7d"
            ],
            [
             0.2,
             "#de77ae"
            ],
            [
             0.3,
             "#f1b6da"
            ],
            [
             0.4,
             "#fde0ef"
            ],
            [
             0.5,
             "#f7f7f7"
            ],
            [
             0.6,
             "#e6f5d0"
            ],
            [
             0.7,
             "#b8e186"
            ],
            [
             0.8,
             "#7fbc41"
            ],
            [
             0.9,
             "#4d9221"
            ],
            [
             1,
             "#276419"
            ]
           ],
           "sequential": [
            [
             0,
             "#0d0887"
            ],
            [
             0.1111111111111111,
             "#46039f"
            ],
            [
             0.2222222222222222,
             "#7201a8"
            ],
            [
             0.3333333333333333,
             "#9c179e"
            ],
            [
             0.4444444444444444,
             "#bd3786"
            ],
            [
             0.5555555555555556,
             "#d8576b"
            ],
            [
             0.6666666666666666,
             "#ed7953"
            ],
            [
             0.7777777777777778,
             "#fb9f3a"
            ],
            [
             0.8888888888888888,
             "#fdca26"
            ],
            [
             1,
             "#f0f921"
            ]
           ],
           "sequentialminus": [
            [
             0,
             "#0d0887"
            ],
            [
             0.1111111111111111,
             "#46039f"
            ],
            [
             0.2222222222222222,
             "#7201a8"
            ],
            [
             0.3333333333333333,
             "#9c179e"
            ],
            [
             0.4444444444444444,
             "#bd3786"
            ],
            [
             0.5555555555555556,
             "#d8576b"
            ],
            [
             0.6666666666666666,
             "#ed7953"
            ],
            [
             0.7777777777777778,
             "#fb9f3a"
            ],
            [
             0.8888888888888888,
             "#fdca26"
            ],
            [
             1,
             "#f0f921"
            ]
           ]
          },
          "colorway": [
           "#636efa",
           "#EF553B",
           "#00cc96",
           "#ab63fa",
           "#FFA15A",
           "#19d3f3",
           "#FF6692",
           "#B6E880",
           "#FF97FF",
           "#FECB52"
          ],
          "font": {
           "color": "#2a3f5f"
          },
          "geo": {
           "bgcolor": "white",
           "lakecolor": "white",
           "landcolor": "#E5ECF6",
           "showlakes": true,
           "showland": true,
           "subunitcolor": "white"
          },
          "hoverlabel": {
           "align": "left"
          },
          "hovermode": "closest",
          "mapbox": {
           "style": "light"
          },
          "paper_bgcolor": "white",
          "plot_bgcolor": "#E5ECF6",
          "polar": {
           "angularaxis": {
            "gridcolor": "white",
            "linecolor": "white",
            "ticks": ""
           },
           "bgcolor": "#E5ECF6",
           "radialaxis": {
            "gridcolor": "white",
            "linecolor": "white",
            "ticks": ""
           }
          },
          "scene": {
           "xaxis": {
            "backgroundcolor": "#E5ECF6",
            "gridcolor": "white",
            "gridwidth": 2,
            "linecolor": "white",
            "showbackground": true,
            "ticks": "",
            "zerolinecolor": "white"
           },
           "yaxis": {
            "backgroundcolor": "#E5ECF6",
            "gridcolor": "white",
            "gridwidth": 2,
            "linecolor": "white",
            "showbackground": true,
            "ticks": "",
            "zerolinecolor": "white"
           },
           "zaxis": {
            "backgroundcolor": "#E5ECF6",
            "gridcolor": "white",
            "gridwidth": 2,
            "linecolor": "white",
            "showbackground": true,
            "ticks": "",
            "zerolinecolor": "white"
           }
          },
          "shapedefaults": {
           "line": {
            "color": "#2a3f5f"
           }
          },
          "ternary": {
           "aaxis": {
            "gridcolor": "white",
            "linecolor": "white",
            "ticks": ""
           },
           "baxis": {
            "gridcolor": "white",
            "linecolor": "white",
            "ticks": ""
           },
           "bgcolor": "#E5ECF6",
           "caxis": {
            "gridcolor": "white",
            "linecolor": "white",
            "ticks": ""
           }
          },
          "title": {
           "x": 0.05
          },
          "xaxis": {
           "automargin": true,
           "gridcolor": "white",
           "linecolor": "white",
           "ticks": "",
           "title": {
            "standoff": 15
           },
           "zerolinecolor": "white",
           "zerolinewidth": 2
          },
          "yaxis": {
           "automargin": true,
           "gridcolor": "white",
           "linecolor": "white",
           "ticks": "",
           "title": {
            "standoff": 15
           },
           "zerolinecolor": "white",
           "zerolinewidth": 2
          }
         }
        },
        "title": {
         "text": "COVID-19 Data for ON"
        },
        "width": 1600,
        "xaxis": {
         "anchor": "y",
         "domain": [
          0,
          0.45
         ]
        },
        "xaxis2": {
         "anchor": "y2",
         "domain": [
          0.55,
          1
         ]
        },
        "xaxis3": {
         "anchor": "y3",
         "domain": [
          0,
          0.45
         ]
        },
        "xaxis4": {
         "anchor": "y4",
         "domain": [
          0.55,
          1
         ]
        },
        "yaxis": {
         "anchor": "x",
         "domain": [
          0.625,
          1
         ]
        },
        "yaxis2": {
         "anchor": "x2",
         "domain": [
          0.625,
          1
         ]
        },
        "yaxis3": {
         "anchor": "x3",
         "domain": [
          0,
          0.375
         ]
        },
        "yaxis4": {
         "anchor": "x4",
         "domain": [
          0,
          0.375
         ]
        }
       }
      }
     },
     "metadata": {},
     "output_type": "display_data"
    }
   ],
   "source": [
    "# begin with converting our case data to a pandas Series\n",
    "cases_series = pd.Series(n_cases, index=pd.DatetimeIndex(case_dates))\n",
    "\n",
    "# explicitly set the frequency of the data to daily\n",
    "cases_series = cases_series.asfreq('D')\n",
    "\n",
    "p, d, q, = 5, 1, 0 # order parameters for the ARIMA model\n",
    "\n",
    "# fit the model to the data\n",
    "model_cases = ARIMA(cases_series, order=(p, d, q)).fit()\n",
    "\n",
    "# generate the forecasted values for the next 30 days\n",
    "forecast_cases = model_cases.forecast(steps=30)\n",
    "# create the date range for the forecasted values\n",
    "forecast_dates = pd.date_range(start=cases_series.index[-1] + pd.Timedelta(days=1), periods=30)\n",
    "\n",
    "# plot the forecasted data as a dashed green line in our first subplot\n",
    "fig.add_trace(go.Scatter(x=forecast_dates, y=forecast_cases, mode='lines', name='Forecasted Cases', \n",
    "                         line=dict(color='green', dash='dash'), hovertemplate='Forecasted Cases: %{y}<extra></extra>'), row=1, col=1)\n",
    "\n",
    "fig.show()"
   ]
  },
  {
   "cell_type": "markdown",
   "metadata": {},
   "source": [
    "Our forecast for the case count looks pretty good! Now let's try to generate forecasts for the remainder of our subplots, and see what the models might tell us. "
   ]
  },
  {
   "cell_type": "code",
   "execution_count": 197,
   "metadata": {},
   "outputs": [
    {
     "data": {
      "application/vnd.plotly.v1+json": {
       "config": {
        "plotlyServerURL": "https://plot.ly"
       },
       "data": [
        {
         "hovertemplate": "Daily Cases: %{y}<extra></extra>",
         "marker": {
          "color": "blue"
         },
         "mode": "lines+markers",
         "name": "Daily Cases",
         "type": "scatter",
         "x": [
          "2023-11-01",
          "2023-11-02",
          "2023-11-03",
          "2023-11-04",
          "2023-11-05",
          "2023-11-06",
          "2023-11-07",
          "2023-11-08",
          "2023-11-09",
          "2023-11-10",
          "2023-11-11",
          "2023-11-12",
          "2023-11-13",
          "2023-11-14",
          "2023-11-15",
          "2023-11-16",
          "2023-11-17",
          "2023-11-18",
          "2023-11-19",
          "2023-11-20",
          "2023-11-21",
          "2023-11-22",
          "2023-11-23",
          "2023-11-24",
          "2023-11-25",
          "2023-11-26",
          "2023-11-27",
          "2023-11-28",
          "2023-11-29",
          "2023-11-30",
          "2023-12-01",
          "2023-12-02",
          "2023-12-03",
          "2023-12-04",
          "2023-12-05",
          "2023-12-06",
          "2023-12-07",
          "2023-12-08",
          "2023-12-09",
          "2023-12-10"
         ],
         "xaxis": "x",
         "y": [
          631,
          523,
          426,
          466,
          317,
          429,
          628,
          593,
          581,
          542,
          365,
          316,
          458,
          652,
          790,
          695,
          700,
          511,
          350,
          719,
          780,
          770,
          651,
          743,
          517,
          452,
          552,
          751,
          769,
          608,
          605,
          492,
          432,
          452,
          681,
          665,
          644,
          736,
          452,
          456
         ],
         "yaxis": "y"
        },
        {
         "hovertemplate": "7-day Rolling Average of Cases: %{y}<extra></extra>",
         "line": {
          "color": "red"
         },
         "mode": "lines",
         "name": "7-day Rolling Average of Cases",
         "type": "scatter",
         "x": [
          "2023-11-08",
          "2023-11-09",
          "2023-11-10",
          "2023-11-11",
          "2023-11-12",
          "2023-11-13",
          "2023-11-14",
          "2023-11-15",
          "2023-11-16",
          "2023-11-17",
          "2023-11-18",
          "2023-11-19",
          "2023-11-20",
          "2023-11-21",
          "2023-11-22",
          "2023-11-23",
          "2023-11-24",
          "2023-11-25",
          "2023-11-26",
          "2023-11-27",
          "2023-11-28",
          "2023-11-29",
          "2023-11-30",
          "2023-12-01",
          "2023-12-02",
          "2023-12-03",
          "2023-12-04",
          "2023-12-05",
          "2023-12-06",
          "2023-12-07",
          "2023-12-08",
          "2023-12-09",
          "2023-12-10"
         ],
         "xaxis": "x",
         "y": [
          488.57142857142856,
          483.14285714285717,
          491.42857142857144,
          508,
          493.57142857142856,
          493.42857142857144,
          497.57142857142856,
          501,
          529.1428571428571,
          545.4285714285714,
          568,
          588.8571428571429,
          593.7142857142857,
          631,
          649.2857142857143,
          646.4285714285714,
          640.1428571428571,
          646.2857142857143,
          647.1428571428571,
          661.7142857142857,
          637.8571428571429,
          633.7142857142857,
          633.5714285714286,
          627.4285714285714,
          607.7142857142857,
          604.1428571428571,
          601.2857142857143,
          587,
          577,
          562.1428571428571,
          567.2857142857143,
          586,
          580.2857142857143
         ],
         "yaxis": "y"
        },
        {
         "hovertemplate": "Daily Deaths: %{y}<extra></extra>",
         "name": "Daily Deaths",
         "type": "bar",
         "x": [
          "2023-11-01",
          "2023-11-02",
          "2023-11-03",
          "2023-11-04",
          "2023-11-05",
          "2023-11-06",
          "2023-11-07",
          "2023-11-08",
          "2023-11-09",
          "2023-11-10",
          "2023-11-11",
          "2023-11-12",
          "2023-11-13",
          "2023-11-14",
          "2023-11-15",
          "2023-11-16",
          "2023-11-17",
          "2023-11-18",
          "2023-11-19",
          "2023-11-20",
          "2023-11-21",
          "2023-11-22",
          "2023-11-23",
          "2023-11-24",
          "2023-11-25",
          "2023-11-26",
          "2023-11-27",
          "2023-11-28",
          "2023-11-29",
          "2023-11-30",
          "2023-12-01",
          "2023-12-02",
          "2023-12-03",
          "2023-12-04",
          "2023-12-05",
          "2023-12-06",
          "2023-12-07",
          "2023-12-08",
          "2023-12-09",
          "2023-12-10"
         ],
         "xaxis": "x2",
         "y": [
          11,
          5,
          7,
          4,
          11,
          7,
          7,
          3,
          8,
          5,
          10,
          6,
          7,
          12,
          13,
          8,
          10,
          8,
          9,
          6,
          6,
          9,
          10,
          5,
          6,
          9,
          4,
          7,
          9,
          3,
          6,
          6,
          12,
          2,
          6,
          2,
          10,
          4,
          4,
          3
         ],
         "yaxis": "y2"
        },
        {
         "hovertemplate": "Actively Hospitalized Patients: %{y}<extra></extra>",
         "marker": {
          "color": "blue"
         },
         "mode": "lines+markers",
         "name": "Actively Hospitalized Patients",
         "type": "scatter",
         "x": [
          "2023-11-01",
          "2023-11-02",
          "2023-11-03",
          "2023-11-04",
          "2023-11-05",
          "2023-11-06",
          "2023-11-07",
          "2023-11-08",
          "2023-11-09",
          "2023-11-10",
          "2023-11-11",
          "2023-11-12",
          "2023-11-13",
          "2023-11-14",
          "2023-11-15",
          "2023-11-16",
          "2023-11-17",
          "2023-11-18",
          "2023-11-19",
          "2023-11-20",
          "2023-11-21",
          "2023-11-22",
          "2023-11-23",
          "2023-11-24",
          "2023-11-25",
          "2023-11-26",
          "2023-11-27",
          "2023-11-28",
          "2023-11-29",
          "2023-11-30",
          "2023-12-01",
          "2023-12-02",
          "2023-12-03",
          "2023-12-04",
          "2023-12-05",
          "2023-12-06",
          "2023-12-07",
          "2023-12-08",
          "2023-12-09",
          "2023-12-10"
         ],
         "xaxis": "x3",
         "y": [
          1091,
          1077,
          1060,
          1055,
          1127,
          1139,
          1138,
          1166,
          1169,
          1110,
          1176,
          1169,
          1286,
          1251,
          1337,
          1371,
          1402,
          1515,
          1600,
          1627,
          1652,
          1645,
          1731,
          1710,
          1688,
          1816,
          1798,
          1763,
          1786,
          1696,
          1623,
          1660,
          1706,
          1666,
          1619,
          1533,
          1439,
          1470,
          1521,
          1605
         ],
         "yaxis": "y3"
        },
        {
         "hovertemplate": "7-day Rolling Average of ACtive Hospitalizations: %{y}<extra></extra>",
         "line": {
          "color": "red"
         },
         "mode": "lines",
         "name": "7-day Rolling Average of Active Hospitalizations",
         "type": "scatter",
         "x": [
          "2023-11-08",
          "2023-11-09",
          "2023-11-10",
          "2023-11-11",
          "2023-11-12",
          "2023-11-13",
          "2023-11-14",
          "2023-11-15",
          "2023-11-16",
          "2023-11-17",
          "2023-11-18",
          "2023-11-19",
          "2023-11-20",
          "2023-11-21",
          "2023-11-22",
          "2023-11-23",
          "2023-11-24",
          "2023-11-25",
          "2023-11-26",
          "2023-11-27",
          "2023-11-28",
          "2023-11-29",
          "2023-11-30",
          "2023-12-01",
          "2023-12-02",
          "2023-12-03",
          "2023-12-04",
          "2023-12-05",
          "2023-12-06",
          "2023-12-07",
          "2023-12-08",
          "2023-12-09",
          "2023-12-10"
         ],
         "xaxis": "x3",
         "y": [
          1098.142857142857,
          1108.857142857143,
          1122,
          1129.142857142857,
          1146.4285714285713,
          1152.4285714285713,
          1173.4285714285713,
          1189.5714285714287,
          1214,
          1242.857142857143,
          1284.5714285714287,
          1333,
          1394.5714285714287,
          1443.2857142857142,
          1500.5714285714287,
          1544.5714285714287,
          1596,
          1640,
          1664.7142857142858,
          1695.5714285714287,
          1720,
          1735.857142857143,
          1756,
          1751,
          1738.5714285714287,
          1734.5714285714287,
          1718.857142857143,
          1700,
          1679.4285714285713,
          1643.2857142857142,
          1606.5714285714287,
          1584.7142857142858,
          1564.857142857143
         ],
         "yaxis": "y3"
        },
        {
         "hovertemplate": "Number of Patients in ICU: %{y}<extra></extra>",
         "marker": {
          "color": "blue"
         },
         "mode": "lines+markers",
         "name": "Number of Patients in ICU",
         "type": "scatter",
         "x": [
          "2023-11-01",
          "2023-11-02",
          "2023-11-03",
          "2023-11-04",
          "2023-11-05",
          "2023-11-06",
          "2023-11-07",
          "2023-11-08",
          "2023-11-09",
          "2023-11-10",
          "2023-11-11",
          "2023-11-12",
          "2023-11-13",
          "2023-11-14",
          "2023-11-15",
          "2023-11-16",
          "2023-11-17",
          "2023-11-18",
          "2023-11-19",
          "2023-11-20",
          "2023-11-21",
          "2023-11-22",
          "2023-11-23",
          "2023-11-24",
          "2023-11-25",
          "2023-11-26",
          "2023-11-27",
          "2023-11-28",
          "2023-11-29",
          "2023-11-30",
          "2023-12-01",
          "2023-12-02",
          "2023-12-03",
          "2023-12-04",
          "2023-12-05",
          "2023-12-06",
          "2023-12-07",
          "2023-12-08",
          "2023-12-09",
          "2023-12-10"
         ],
         "xaxis": "x4",
         "y": [
          57,
          61,
          57,
          58,
          63,
          67,
          77,
          81,
          84,
          77,
          78,
          81,
          79,
          84,
          84,
          84,
          92,
          91,
          97,
          106,
          103,
          97,
          94,
          90,
          94,
          93,
          102,
          113,
          114,
          114,
          113,
          120,
          120,
          113,
          110,
          100,
          107,
          111,
          109,
          113
         ],
         "yaxis": "y4"
        },
        {
         "hovertemplate": "7-day Rolling Average of ICU Occupancies: %{y}<extra></extra>",
         "line": {
          "color": "red"
         },
         "mode": "lines",
         "name": "7-day Rolling Average of ICU Occupancies",
         "type": "scatter",
         "x": [
          "2023-11-08",
          "2023-11-09",
          "2023-11-10",
          "2023-11-11",
          "2023-11-12",
          "2023-11-13",
          "2023-11-14",
          "2023-11-15",
          "2023-11-16",
          "2023-11-17",
          "2023-11-18",
          "2023-11-19",
          "2023-11-20",
          "2023-11-21",
          "2023-11-22",
          "2023-11-23",
          "2023-11-24",
          "2023-11-25",
          "2023-11-26",
          "2023-11-27",
          "2023-11-28",
          "2023-11-29",
          "2023-11-30",
          "2023-12-01",
          "2023-12-02",
          "2023-12-03",
          "2023-12-04",
          "2023-12-05",
          "2023-12-06",
          "2023-12-07",
          "2023-12-08",
          "2023-12-09",
          "2023-12-10"
         ],
         "xaxis": "x4",
         "y": [
          62.857142857142854,
          66.28571428571429,
          69.57142857142857,
          72.42857142857143,
          75.28571428571429,
          77.85714285714286,
          79.57142857142857,
          80.57142857142857,
          81,
          81,
          83.14285714285714,
          85,
          87.28571428571429,
          91.14285714285714,
          93.85714285714286,
          95.71428571428571,
          97.14285714285714,
          96.85714285714286,
          97.28571428571429,
          96.71428571428571,
          96.14285714285714,
          97.57142857142857,
          100,
          102.85714285714286,
          106.14285714285714,
          109.85714285714286,
          113.71428571428571,
          115.28571428571429,
          114.85714285714286,
          112.85714285714286,
          111.85714285714286,
          111.57142857142857,
          110
         ],
         "yaxis": "y4"
        },
        {
         "hovertemplate": "Forecasted Cases: %{y}<extra></extra>",
         "line": {
          "color": "green",
          "dash": "dash"
         },
         "mode": "lines",
         "name": "Forecasted Cases",
         "type": "scatter",
         "x": [
          "2023-12-11T00:00:00",
          "2023-12-12T00:00:00",
          "2023-12-13T00:00:00",
          "2023-12-14T00:00:00",
          "2023-12-15T00:00:00",
          "2023-12-16T00:00:00",
          "2023-12-17T00:00:00",
          "2023-12-18T00:00:00",
          "2023-12-19T00:00:00",
          "2023-12-20T00:00:00",
          "2023-12-21T00:00:00",
          "2023-12-22T00:00:00",
          "2023-12-23T00:00:00",
          "2023-12-24T00:00:00",
          "2023-12-25T00:00:00",
          "2023-12-26T00:00:00",
          "2023-12-27T00:00:00",
          "2023-12-28T00:00:00",
          "2023-12-29T00:00:00",
          "2023-12-30T00:00:00",
          "2023-12-31T00:00:00",
          "2024-01-01T00:00:00",
          "2024-01-02T00:00:00",
          "2024-01-03T00:00:00",
          "2024-01-04T00:00:00",
          "2024-01-05T00:00:00",
          "2024-01-06T00:00:00",
          "2024-01-07T00:00:00",
          "2024-01-08T00:00:00",
          "2024-01-09T00:00:00"
         ],
         "xaxis": "x",
         "y": [
          578.9851562943744,
          616.6709904891801,
          623.1214024629835,
          713.2074108726467,
          601.1821032776817,
          504.52329320779637,
          533.8368011826848,
          570.6136832950781,
          584.042936118394,
          659.6162899733513,
          652.4408553841397,
          577.0939226208225,
          549.2358842015977,
          555.974286835972,
          558.2219573598892,
          605.6385150297549,
          641.5236131841358,
          616.7751872788381,
          583.3311160898347,
          569.0548138452995,
          556.5478224385361,
          573.0330898585863,
          609.5102541301737,
          619.3798827312809,
          605.0341449015247,
          589.632940490816,
          571.3438139178884,
          565.7398675648877,
          584.3996540682114,
          603.6339070517208
         ],
         "yaxis": "y"
        },
        {
         "hovertemplate": "Forecasted Deaths: %{y}<extra></extra>",
         "marker": {
          "color": "black"
         },
         "name": "Forecasted Deaths",
         "type": "bar",
         "x": [
          "2023-12-10T00:00:00",
          "2023-12-11T00:00:00",
          "2023-12-12T00:00:00",
          "2023-12-13T00:00:00",
          "2023-12-14T00:00:00",
          "2023-12-15T00:00:00",
          "2023-12-16T00:00:00",
          "2023-12-17T00:00:00",
          "2023-12-18T00:00:00",
          "2023-12-19T00:00:00",
          "2023-12-20T00:00:00",
          "2023-12-21T00:00:00",
          "2023-12-22T00:00:00",
          "2023-12-23T00:00:00",
          "2023-12-24T00:00:00",
          "2023-12-25T00:00:00",
          "2023-12-26T00:00:00",
          "2023-12-27T00:00:00",
          "2023-12-28T00:00:00",
          "2023-12-29T00:00:00",
          "2023-12-30T00:00:00",
          "2023-12-31T00:00:00",
          "2024-01-01T00:00:00",
          "2024-01-02T00:00:00",
          "2024-01-03T00:00:00",
          "2024-01-04T00:00:00",
          "2024-01-05T00:00:00",
          "2024-01-06T00:00:00",
          "2024-01-07T00:00:00",
          "2024-01-08T00:00:00"
         ],
         "xaxis": "x2",
         "y": [
          7.421062968105771,
          4.211541145078195,
          5.088350554513203,
          3.6868734014128317,
          6.081985364627863,
          4.356966271221179,
          5.304562280786946,
          4.140047277014439,
          5.521968069754526,
          4.476377272052489,
          5.250732545165208,
          4.41695169286303,
          5.259406471066518,
          4.581264158318032,
          5.151419221127773,
          4.5830734307091054,
          5.1181013688963315,
          4.665898739094876,
          5.0659247244609675,
          4.684651501716871,
          5.033376486342628,
          4.729213259576905,
          5.003329066829092,
          4.748561448157293,
          4.979215530573849,
          4.774349604935402,
          4.960027897236127,
          4.789778588642539,
          4.943503822744685,
          4.8056318144309325
         ],
         "yaxis": "y2"
        },
        {
         "hovertemplate": "Forecasted Hospitalizations: %{y}<extra></extra>",
         "line": {
          "color": "orange",
          "dash": "dash"
         },
         "mode": "lines",
         "name": "Forecasted Hospitalizations",
         "type": "scatter",
         "x": [
          "2023-12-10T00:00:00",
          "2023-12-11T00:00:00",
          "2023-12-12T00:00:00",
          "2023-12-13T00:00:00",
          "2023-12-14T00:00:00",
          "2023-12-15T00:00:00",
          "2023-12-16T00:00:00",
          "2023-12-17T00:00:00",
          "2023-12-18T00:00:00",
          "2023-12-19T00:00:00",
          "2023-12-20T00:00:00",
          "2023-12-21T00:00:00",
          "2023-12-22T00:00:00",
          "2023-12-23T00:00:00",
          "2023-12-24T00:00:00",
          "2023-12-25T00:00:00",
          "2023-12-26T00:00:00",
          "2023-12-27T00:00:00",
          "2023-12-28T00:00:00",
          "2023-12-29T00:00:00",
          "2023-12-30T00:00:00",
          "2023-12-31T00:00:00",
          "2024-01-01T00:00:00",
          "2024-01-02T00:00:00",
          "2024-01-03T00:00:00",
          "2024-01-04T00:00:00",
          "2024-01-05T00:00:00",
          "2024-01-06T00:00:00",
          "2024-01-07T00:00:00",
          "2024-01-08T00:00:00"
         ],
         "xaxis": "x3",
         "y": [
          1631.5652861626727,
          1644.1797761883072,
          1653.8926968561839,
          1653.290318688631,
          1655.3779432709357,
          1656.2194741804217,
          1655.9606829339814,
          1656.5373893881774,
          1656.481985097044,
          1656.4859437491525,
          1656.5866360014077,
          1656.537845101689,
          1656.5615636593277,
          1656.5687994773677,
          1656.5583103966794,
          1656.5670013820754,
          1656.5645629853207,
          1656.5639761938517,
          1656.5656770933674,
          1656.5645602639372,
          1656.564955378901,
          1656.5650653749444,
          1656.5648378796477,
          1656.5650015261929,
          1656.5649491430233,
          1656.5649349752991,
          1656.5649678591676,
          1656.5649451658785,
          1656.5649526978768,
          1656.5649548090162
         ],
         "yaxis": "y3"
        },
        {
         "hovertemplate": "Forecasted ICU Occupancies (ARIMA): %{y}<extra></extra>",
         "line": {
          "color": "green",
          "dash": "dash"
         },
         "mode": "lines",
         "name": "Forecasted ICU Occupancies (ARIMA)",
         "type": "scatter",
         "x": [
          "2023-12-10T00:00:00",
          "2023-12-11T00:00:00",
          "2023-12-12T00:00:00",
          "2023-12-13T00:00:00",
          "2023-12-14T00:00:00",
          "2023-12-15T00:00:00",
          "2023-12-16T00:00:00",
          "2023-12-17T00:00:00",
          "2023-12-18T00:00:00",
          "2023-12-19T00:00:00",
          "2023-12-20T00:00:00",
          "2023-12-21T00:00:00",
          "2023-12-22T00:00:00",
          "2023-12-23T00:00:00",
          "2023-12-24T00:00:00",
          "2023-12-25T00:00:00",
          "2023-12-26T00:00:00",
          "2023-12-27T00:00:00",
          "2023-12-28T00:00:00",
          "2023-12-29T00:00:00",
          "2023-12-30T00:00:00",
          "2023-12-31T00:00:00",
          "2024-01-01T00:00:00",
          "2024-01-02T00:00:00",
          "2024-01-03T00:00:00",
          "2024-01-04T00:00:00",
          "2024-01-05T00:00:00",
          "2024-01-06T00:00:00",
          "2024-01-07T00:00:00",
          "2024-01-08T00:00:00"
         ],
         "xaxis": "x4",
         "y": [
          109.32475029965096,
          108.65680784716942,
          110.4599015693668,
          108.7699250375057,
          110.57948340269786,
          110.4551151160582,
          109.51807157425154,
          110.44662194643763,
          109.6182303577381,
          109.84745979283171,
          110.25959667380314,
          109.74865681921459,
          110.15733626217447,
          109.99906485002124,
          109.84046890867975,
          110.10918462197033,
          109.89526708417674,
          109.98893694532116,
          110.04536814196581,
          109.91207650113562,
          110.0269322477771,
          109.97306111962733,
          109.95472139144218,
          110.01822606566112,
          109.95708301183745,
          109.9881901706073,
          109.99300002644144,
          109.96348406070607,
          109.99538519108077,
          109.97748786226846
         ],
         "yaxis": "y4"
        }
       ],
       "layout": {
        "annotations": [
         {
          "font": {
           "size": 16
          },
          "showarrow": false,
          "text": "Daily COVID-19 Infections for ON",
          "x": 0.225,
          "xanchor": "center",
          "xref": "paper",
          "y": 1,
          "yanchor": "bottom",
          "yref": "paper"
         },
         {
          "font": {
           "size": 16
          },
          "showarrow": false,
          "text": "COVID-19 Deaths per Day for ON",
          "x": 0.775,
          "xanchor": "center",
          "xref": "paper",
          "y": 1,
          "yanchor": "bottom",
          "yref": "paper"
         },
         {
          "font": {
           "size": 16
          },
          "showarrow": false,
          "text": "COVID-19 Hospitalizations for ON",
          "x": 0.225,
          "xanchor": "center",
          "xref": "paper",
          "y": 0.375,
          "yanchor": "bottom",
          "yref": "paper"
         },
         {
          "font": {
           "size": 16
          },
          "showarrow": false,
          "text": "COVID-19 ICU Occupancies for ON",
          "x": 0.775,
          "xanchor": "center",
          "xref": "paper",
          "y": 0.375,
          "yanchor": "bottom",
          "yref": "paper"
         }
        ],
        "height": 1600,
        "showlegend": true,
        "template": {
         "data": {
          "bar": [
           {
            "error_x": {
             "color": "#2a3f5f"
            },
            "error_y": {
             "color": "#2a3f5f"
            },
            "marker": {
             "line": {
              "color": "#E5ECF6",
              "width": 0.5
             },
             "pattern": {
              "fillmode": "overlay",
              "size": 10,
              "solidity": 0.2
             }
            },
            "type": "bar"
           }
          ],
          "barpolar": [
           {
            "marker": {
             "line": {
              "color": "#E5ECF6",
              "width": 0.5
             },
             "pattern": {
              "fillmode": "overlay",
              "size": 10,
              "solidity": 0.2
             }
            },
            "type": "barpolar"
           }
          ],
          "carpet": [
           {
            "aaxis": {
             "endlinecolor": "#2a3f5f",
             "gridcolor": "white",
             "linecolor": "white",
             "minorgridcolor": "white",
             "startlinecolor": "#2a3f5f"
            },
            "baxis": {
             "endlinecolor": "#2a3f5f",
             "gridcolor": "white",
             "linecolor": "white",
             "minorgridcolor": "white",
             "startlinecolor": "#2a3f5f"
            },
            "type": "carpet"
           }
          ],
          "choropleth": [
           {
            "colorbar": {
             "outlinewidth": 0,
             "ticks": ""
            },
            "type": "choropleth"
           }
          ],
          "contour": [
           {
            "colorbar": {
             "outlinewidth": 0,
             "ticks": ""
            },
            "colorscale": [
             [
              0,
              "#0d0887"
             ],
             [
              0.1111111111111111,
              "#46039f"
             ],
             [
              0.2222222222222222,
              "#7201a8"
             ],
             [
              0.3333333333333333,
              "#9c179e"
             ],
             [
              0.4444444444444444,
              "#bd3786"
             ],
             [
              0.5555555555555556,
              "#d8576b"
             ],
             [
              0.6666666666666666,
              "#ed7953"
             ],
             [
              0.7777777777777778,
              "#fb9f3a"
             ],
             [
              0.8888888888888888,
              "#fdca26"
             ],
             [
              1,
              "#f0f921"
             ]
            ],
            "type": "contour"
           }
          ],
          "contourcarpet": [
           {
            "colorbar": {
             "outlinewidth": 0,
             "ticks": ""
            },
            "type": "contourcarpet"
           }
          ],
          "heatmap": [
           {
            "colorbar": {
             "outlinewidth": 0,
             "ticks": ""
            },
            "colorscale": [
             [
              0,
              "#0d0887"
             ],
             [
              0.1111111111111111,
              "#46039f"
             ],
             [
              0.2222222222222222,
              "#7201a8"
             ],
             [
              0.3333333333333333,
              "#9c179e"
             ],
             [
              0.4444444444444444,
              "#bd3786"
             ],
             [
              0.5555555555555556,
              "#d8576b"
             ],
             [
              0.6666666666666666,
              "#ed7953"
             ],
             [
              0.7777777777777778,
              "#fb9f3a"
             ],
             [
              0.8888888888888888,
              "#fdca26"
             ],
             [
              1,
              "#f0f921"
             ]
            ],
            "type": "heatmap"
           }
          ],
          "heatmapgl": [
           {
            "colorbar": {
             "outlinewidth": 0,
             "ticks": ""
            },
            "colorscale": [
             [
              0,
              "#0d0887"
             ],
             [
              0.1111111111111111,
              "#46039f"
             ],
             [
              0.2222222222222222,
              "#7201a8"
             ],
             [
              0.3333333333333333,
              "#9c179e"
             ],
             [
              0.4444444444444444,
              "#bd3786"
             ],
             [
              0.5555555555555556,
              "#d8576b"
             ],
             [
              0.6666666666666666,
              "#ed7953"
             ],
             [
              0.7777777777777778,
              "#fb9f3a"
             ],
             [
              0.8888888888888888,
              "#fdca26"
             ],
             [
              1,
              "#f0f921"
             ]
            ],
            "type": "heatmapgl"
           }
          ],
          "histogram": [
           {
            "marker": {
             "pattern": {
              "fillmode": "overlay",
              "size": 10,
              "solidity": 0.2
             }
            },
            "type": "histogram"
           }
          ],
          "histogram2d": [
           {
            "colorbar": {
             "outlinewidth": 0,
             "ticks": ""
            },
            "colorscale": [
             [
              0,
              "#0d0887"
             ],
             [
              0.1111111111111111,
              "#46039f"
             ],
             [
              0.2222222222222222,
              "#7201a8"
             ],
             [
              0.3333333333333333,
              "#9c179e"
             ],
             [
              0.4444444444444444,
              "#bd3786"
             ],
             [
              0.5555555555555556,
              "#d8576b"
             ],
             [
              0.6666666666666666,
              "#ed7953"
             ],
             [
              0.7777777777777778,
              "#fb9f3a"
             ],
             [
              0.8888888888888888,
              "#fdca26"
             ],
             [
              1,
              "#f0f921"
             ]
            ],
            "type": "histogram2d"
           }
          ],
          "histogram2dcontour": [
           {
            "colorbar": {
             "outlinewidth": 0,
             "ticks": ""
            },
            "colorscale": [
             [
              0,
              "#0d0887"
             ],
             [
              0.1111111111111111,
              "#46039f"
             ],
             [
              0.2222222222222222,
              "#7201a8"
             ],
             [
              0.3333333333333333,
              "#9c179e"
             ],
             [
              0.4444444444444444,
              "#bd3786"
             ],
             [
              0.5555555555555556,
              "#d8576b"
             ],
             [
              0.6666666666666666,
              "#ed7953"
             ],
             [
              0.7777777777777778,
              "#fb9f3a"
             ],
             [
              0.8888888888888888,
              "#fdca26"
             ],
             [
              1,
              "#f0f921"
             ]
            ],
            "type": "histogram2dcontour"
           }
          ],
          "mesh3d": [
           {
            "colorbar": {
             "outlinewidth": 0,
             "ticks": ""
            },
            "type": "mesh3d"
           }
          ],
          "parcoords": [
           {
            "line": {
             "colorbar": {
              "outlinewidth": 0,
              "ticks": ""
             }
            },
            "type": "parcoords"
           }
          ],
          "pie": [
           {
            "automargin": true,
            "type": "pie"
           }
          ],
          "scatter": [
           {
            "fillpattern": {
             "fillmode": "overlay",
             "size": 10,
             "solidity": 0.2
            },
            "type": "scatter"
           }
          ],
          "scatter3d": [
           {
            "line": {
             "colorbar": {
              "outlinewidth": 0,
              "ticks": ""
             }
            },
            "marker": {
             "colorbar": {
              "outlinewidth": 0,
              "ticks": ""
             }
            },
            "type": "scatter3d"
           }
          ],
          "scattercarpet": [
           {
            "marker": {
             "colorbar": {
              "outlinewidth": 0,
              "ticks": ""
             }
            },
            "type": "scattercarpet"
           }
          ],
          "scattergeo": [
           {
            "marker": {
             "colorbar": {
              "outlinewidth": 0,
              "ticks": ""
             }
            },
            "type": "scattergeo"
           }
          ],
          "scattergl": [
           {
            "marker": {
             "colorbar": {
              "outlinewidth": 0,
              "ticks": ""
             }
            },
            "type": "scattergl"
           }
          ],
          "scattermapbox": [
           {
            "marker": {
             "colorbar": {
              "outlinewidth": 0,
              "ticks": ""
             }
            },
            "type": "scattermapbox"
           }
          ],
          "scatterpolar": [
           {
            "marker": {
             "colorbar": {
              "outlinewidth": 0,
              "ticks": ""
             }
            },
            "type": "scatterpolar"
           }
          ],
          "scatterpolargl": [
           {
            "marker": {
             "colorbar": {
              "outlinewidth": 0,
              "ticks": ""
             }
            },
            "type": "scatterpolargl"
           }
          ],
          "scatterternary": [
           {
            "marker": {
             "colorbar": {
              "outlinewidth": 0,
              "ticks": ""
             }
            },
            "type": "scatterternary"
           }
          ],
          "surface": [
           {
            "colorbar": {
             "outlinewidth": 0,
             "ticks": ""
            },
            "colorscale": [
             [
              0,
              "#0d0887"
             ],
             [
              0.1111111111111111,
              "#46039f"
             ],
             [
              0.2222222222222222,
              "#7201a8"
             ],
             [
              0.3333333333333333,
              "#9c179e"
             ],
             [
              0.4444444444444444,
              "#bd3786"
             ],
             [
              0.5555555555555556,
              "#d8576b"
             ],
             [
              0.6666666666666666,
              "#ed7953"
             ],
             [
              0.7777777777777778,
              "#fb9f3a"
             ],
             [
              0.8888888888888888,
              "#fdca26"
             ],
             [
              1,
              "#f0f921"
             ]
            ],
            "type": "surface"
           }
          ],
          "table": [
           {
            "cells": {
             "fill": {
              "color": "#EBF0F8"
             },
             "line": {
              "color": "white"
             }
            },
            "header": {
             "fill": {
              "color": "#C8D4E3"
             },
             "line": {
              "color": "white"
             }
            },
            "type": "table"
           }
          ]
         },
         "layout": {
          "annotationdefaults": {
           "arrowcolor": "#2a3f5f",
           "arrowhead": 0,
           "arrowwidth": 1
          },
          "autotypenumbers": "strict",
          "coloraxis": {
           "colorbar": {
            "outlinewidth": 0,
            "ticks": ""
           }
          },
          "colorscale": {
           "diverging": [
            [
             0,
             "#8e0152"
            ],
            [
             0.1,
             "#c51b7d"
            ],
            [
             0.2,
             "#de77ae"
            ],
            [
             0.3,
             "#f1b6da"
            ],
            [
             0.4,
             "#fde0ef"
            ],
            [
             0.5,
             "#f7f7f7"
            ],
            [
             0.6,
             "#e6f5d0"
            ],
            [
             0.7,
             "#b8e186"
            ],
            [
             0.8,
             "#7fbc41"
            ],
            [
             0.9,
             "#4d9221"
            ],
            [
             1,
             "#276419"
            ]
           ],
           "sequential": [
            [
             0,
             "#0d0887"
            ],
            [
             0.1111111111111111,
             "#46039f"
            ],
            [
             0.2222222222222222,
             "#7201a8"
            ],
            [
             0.3333333333333333,
             "#9c179e"
            ],
            [
             0.4444444444444444,
             "#bd3786"
            ],
            [
             0.5555555555555556,
             "#d8576b"
            ],
            [
             0.6666666666666666,
             "#ed7953"
            ],
            [
             0.7777777777777778,
             "#fb9f3a"
            ],
            [
             0.8888888888888888,
             "#fdca26"
            ],
            [
             1,
             "#f0f921"
            ]
           ],
           "sequentialminus": [
            [
             0,
             "#0d0887"
            ],
            [
             0.1111111111111111,
             "#46039f"
            ],
            [
             0.2222222222222222,
             "#7201a8"
            ],
            [
             0.3333333333333333,
             "#9c179e"
            ],
            [
             0.4444444444444444,
             "#bd3786"
            ],
            [
             0.5555555555555556,
             "#d8576b"
            ],
            [
             0.6666666666666666,
             "#ed7953"
            ],
            [
             0.7777777777777778,
             "#fb9f3a"
            ],
            [
             0.8888888888888888,
             "#fdca26"
            ],
            [
             1,
             "#f0f921"
            ]
           ]
          },
          "colorway": [
           "#636efa",
           "#EF553B",
           "#00cc96",
           "#ab63fa",
           "#FFA15A",
           "#19d3f3",
           "#FF6692",
           "#B6E880",
           "#FF97FF",
           "#FECB52"
          ],
          "font": {
           "color": "#2a3f5f"
          },
          "geo": {
           "bgcolor": "white",
           "lakecolor": "white",
           "landcolor": "#E5ECF6",
           "showlakes": true,
           "showland": true,
           "subunitcolor": "white"
          },
          "hoverlabel": {
           "align": "left"
          },
          "hovermode": "closest",
          "mapbox": {
           "style": "light"
          },
          "paper_bgcolor": "white",
          "plot_bgcolor": "#E5ECF6",
          "polar": {
           "angularaxis": {
            "gridcolor": "white",
            "linecolor": "white",
            "ticks": ""
           },
           "bgcolor": "#E5ECF6",
           "radialaxis": {
            "gridcolor": "white",
            "linecolor": "white",
            "ticks": ""
           }
          },
          "scene": {
           "xaxis": {
            "backgroundcolor": "#E5ECF6",
            "gridcolor": "white",
            "gridwidth": 2,
            "linecolor": "white",
            "showbackground": true,
            "ticks": "",
            "zerolinecolor": "white"
           },
           "yaxis": {
            "backgroundcolor": "#E5ECF6",
            "gridcolor": "white",
            "gridwidth": 2,
            "linecolor": "white",
            "showbackground": true,
            "ticks": "",
            "zerolinecolor": "white"
           },
           "zaxis": {
            "backgroundcolor": "#E5ECF6",
            "gridcolor": "white",
            "gridwidth": 2,
            "linecolor": "white",
            "showbackground": true,
            "ticks": "",
            "zerolinecolor": "white"
           }
          },
          "shapedefaults": {
           "line": {
            "color": "#2a3f5f"
           }
          },
          "ternary": {
           "aaxis": {
            "gridcolor": "white",
            "linecolor": "white",
            "ticks": ""
           },
           "baxis": {
            "gridcolor": "white",
            "linecolor": "white",
            "ticks": ""
           },
           "bgcolor": "#E5ECF6",
           "caxis": {
            "gridcolor": "white",
            "linecolor": "white",
            "ticks": ""
           }
          },
          "title": {
           "x": 0.05
          },
          "xaxis": {
           "automargin": true,
           "gridcolor": "white",
           "linecolor": "white",
           "ticks": "",
           "title": {
            "standoff": 15
           },
           "zerolinecolor": "white",
           "zerolinewidth": 2
          },
          "yaxis": {
           "automargin": true,
           "gridcolor": "white",
           "linecolor": "white",
           "ticks": "",
           "title": {
            "standoff": 15
           },
           "zerolinecolor": "white",
           "zerolinewidth": 2
          }
         }
        },
        "title": {
         "text": "COVID-19 Data for ON"
        },
        "width": 1600,
        "xaxis": {
         "anchor": "y",
         "domain": [
          0,
          0.45
         ]
        },
        "xaxis2": {
         "anchor": "y2",
         "domain": [
          0.55,
          1
         ]
        },
        "xaxis3": {
         "anchor": "y3",
         "domain": [
          0,
          0.45
         ]
        },
        "xaxis4": {
         "anchor": "y4",
         "domain": [
          0.55,
          1
         ]
        },
        "yaxis": {
         "anchor": "x",
         "domain": [
          0.625,
          1
         ]
        },
        "yaxis2": {
         "anchor": "x2",
         "domain": [
          0.625,
          1
         ]
        },
        "yaxis3": {
         "anchor": "x3",
         "domain": [
          0,
          0.375
         ]
        },
        "yaxis4": {
         "anchor": "x4",
         "domain": [
          0,
          0.375
         ]
        }
       }
      }
     },
     "metadata": {},
     "output_type": "display_data"
    }
   ],
   "source": [
    "# define each data series as a pandas series with a datetime index\n",
    "deaths_series = pd.Series(n_deaths, index=pd.DatetimeIndex(death_dates))\n",
    "hospitalizations_series = pd.Series(n_hosp, index=pd.DatetimeIndex(hosp_dates))\n",
    "ICU_series = pd.Series(n_icu, index=pd.DatetimeIndex(icu_dates))\n",
    "\n",
    "# explicitly set frequency for each series bc it throws a warning otherwise\n",
    "deaths_series = deaths_series.asfreq('D')\n",
    "hospitalizations_series = hospitalizations_series.asfreq('D')\n",
    "ICU_series = ICU_series.asfreq('D')\n",
    "\n",
    "# fit ARIMA model for each data series\n",
    "model_deaths = ARIMA(deaths_series, order=(p,d,q)).fit()\n",
    "model_hosp = ARIMA(hospitalizations_series, order=(p,d,q)).fit()\n",
    "model_ICU = ARIMA(ICU_series, order=(p,d,q)).fit()\n",
    "\n",
    "# calculate the 30-day forecast for each series\n",
    "forecast_deaths = model_deaths.forecast(steps=30)\n",
    "forecast_hosp = model_hosp.forecast(steps=30)\n",
    "forecast_ICU = model_ICU.forecast(steps=30)\n",
    "\n",
    "# date ranges for forrecasted values\n",
    "forecast_dates_deaths = pd.date_range(start=deaths_series.index[-1], periods=30, freq='D')\n",
    "forecast_dates_hosp = pd.date_range(start=hospitalizations_series.index[-1], periods=30, freq='D')\n",
    "forecast_dates_ICU = pd.date_range(start=ICU_series.index[-1], periods=30, freq='D')\n",
    "\n",
    "# new traces for forecast values\n",
    "fig.add_trace(go.Bar(x=forecast_dates_deaths, y=forecast_deaths, name='Forecasted Deaths', marker_color='black', hovertemplate='Forecasted Deaths: %{y}<extra></extra>'), row=1, col=2)\n",
    "fig.add_trace(go.Scatter(x=forecast_dates_hosp, y=forecast_hosp, mode='lines', name='Forecasted Hospitalizations', line=dict(color='orange', dash='dash'), \n",
    "                         hovertemplate='Forecasted Hospitalizations: %{y}<extra></extra>'), row=2, col=1)\n",
    "fig.add_trace(go.Scatter(x=forecast_dates_ICU, y=forecast_ICU, mode='lines', name='Forecasted ICU Occupancies (ARIMA)', line=dict(color='green', dash='dash'), \n",
    "                         hovertemplate='Forecasted ICU Occupancies (ARIMA): %{y}<extra></extra>'), row=2, col=2)\n",
    "\n",
    "fig.show()"
   ]
  },
  {
   "cell_type": "markdown",
   "metadata": {},
   "source": [
    "While the remainder of our forecasts may not look as 'good' as our forecast for daily infections, it's still interesting to see what each model generates. The data used to create the model is also of importance; for example, as of December 2023, when I used the Nov-Dec data to create the ICU occupancy forecast, it might have been a better choice to use a linear regression model as the rolling average for the data shows a continually-increasing trend in terms of ICU occupancies, whereas the ARIMA model generated a roughly flat line for both ICU occupancy as well as hospitalization data. "
   ]
  },
  {
   "cell_type": "code",
   "execution_count": 198,
   "metadata": {},
   "outputs": [
    {
     "data": {
      "application/vnd.plotly.v1+json": {
       "config": {
        "plotlyServerURL": "https://plot.ly"
       },
       "data": [
        {
         "hovertemplate": "Daily Cases: %{y}<extra></extra>",
         "marker": {
          "color": "blue"
         },
         "mode": "lines+markers",
         "name": "Daily Cases",
         "type": "scatter",
         "x": [
          "2023-11-01",
          "2023-11-02",
          "2023-11-03",
          "2023-11-04",
          "2023-11-05",
          "2023-11-06",
          "2023-11-07",
          "2023-11-08",
          "2023-11-09",
          "2023-11-10",
          "2023-11-11",
          "2023-11-12",
          "2023-11-13",
          "2023-11-14",
          "2023-11-15",
          "2023-11-16",
          "2023-11-17",
          "2023-11-18",
          "2023-11-19",
          "2023-11-20",
          "2023-11-21",
          "2023-11-22",
          "2023-11-23",
          "2023-11-24",
          "2023-11-25",
          "2023-11-26",
          "2023-11-27",
          "2023-11-28",
          "2023-11-29",
          "2023-11-30",
          "2023-12-01",
          "2023-12-02",
          "2023-12-03",
          "2023-12-04",
          "2023-12-05",
          "2023-12-06",
          "2023-12-07",
          "2023-12-08",
          "2023-12-09",
          "2023-12-10"
         ],
         "xaxis": "x",
         "y": [
          631,
          523,
          426,
          466,
          317,
          429,
          628,
          593,
          581,
          542,
          365,
          316,
          458,
          652,
          790,
          695,
          700,
          511,
          350,
          719,
          780,
          770,
          651,
          743,
          517,
          452,
          552,
          751,
          769,
          608,
          605,
          492,
          432,
          452,
          681,
          665,
          644,
          736,
          452,
          456
         ],
         "yaxis": "y"
        },
        {
         "hovertemplate": "7-day Rolling Average of Cases: %{y}<extra></extra>",
         "line": {
          "color": "red"
         },
         "mode": "lines",
         "name": "7-day Rolling Average of Cases",
         "type": "scatter",
         "x": [
          "2023-11-08",
          "2023-11-09",
          "2023-11-10",
          "2023-11-11",
          "2023-11-12",
          "2023-11-13",
          "2023-11-14",
          "2023-11-15",
          "2023-11-16",
          "2023-11-17",
          "2023-11-18",
          "2023-11-19",
          "2023-11-20",
          "2023-11-21",
          "2023-11-22",
          "2023-11-23",
          "2023-11-24",
          "2023-11-25",
          "2023-11-26",
          "2023-11-27",
          "2023-11-28",
          "2023-11-29",
          "2023-11-30",
          "2023-12-01",
          "2023-12-02",
          "2023-12-03",
          "2023-12-04",
          "2023-12-05",
          "2023-12-06",
          "2023-12-07",
          "2023-12-08",
          "2023-12-09",
          "2023-12-10"
         ],
         "xaxis": "x",
         "y": [
          488.57142857142856,
          483.14285714285717,
          491.42857142857144,
          508,
          493.57142857142856,
          493.42857142857144,
          497.57142857142856,
          501,
          529.1428571428571,
          545.4285714285714,
          568,
          588.8571428571429,
          593.7142857142857,
          631,
          649.2857142857143,
          646.4285714285714,
          640.1428571428571,
          646.2857142857143,
          647.1428571428571,
          661.7142857142857,
          637.8571428571429,
          633.7142857142857,
          633.5714285714286,
          627.4285714285714,
          607.7142857142857,
          604.1428571428571,
          601.2857142857143,
          587,
          577,
          562.1428571428571,
          567.2857142857143,
          586,
          580.2857142857143
         ],
         "yaxis": "y"
        },
        {
         "hovertemplate": "Daily Deaths: %{y}<extra></extra>",
         "name": "Daily Deaths",
         "type": "bar",
         "x": [
          "2023-11-01",
          "2023-11-02",
          "2023-11-03",
          "2023-11-04",
          "2023-11-05",
          "2023-11-06",
          "2023-11-07",
          "2023-11-08",
          "2023-11-09",
          "2023-11-10",
          "2023-11-11",
          "2023-11-12",
          "2023-11-13",
          "2023-11-14",
          "2023-11-15",
          "2023-11-16",
          "2023-11-17",
          "2023-11-18",
          "2023-11-19",
          "2023-11-20",
          "2023-11-21",
          "2023-11-22",
          "2023-11-23",
          "2023-11-24",
          "2023-11-25",
          "2023-11-26",
          "2023-11-27",
          "2023-11-28",
          "2023-11-29",
          "2023-11-30",
          "2023-12-01",
          "2023-12-02",
          "2023-12-03",
          "2023-12-04",
          "2023-12-05",
          "2023-12-06",
          "2023-12-07",
          "2023-12-08",
          "2023-12-09",
          "2023-12-10"
         ],
         "xaxis": "x2",
         "y": [
          11,
          5,
          7,
          4,
          11,
          7,
          7,
          3,
          8,
          5,
          10,
          6,
          7,
          12,
          13,
          8,
          10,
          8,
          9,
          6,
          6,
          9,
          10,
          5,
          6,
          9,
          4,
          7,
          9,
          3,
          6,
          6,
          12,
          2,
          6,
          2,
          10,
          4,
          4,
          3
         ],
         "yaxis": "y2"
        },
        {
         "hovertemplate": "Actively Hospitalized Patients: %{y}<extra></extra>",
         "marker": {
          "color": "blue"
         },
         "mode": "lines+markers",
         "name": "Actively Hospitalized Patients",
         "type": "scatter",
         "x": [
          "2023-11-01",
          "2023-11-02",
          "2023-11-03",
          "2023-11-04",
          "2023-11-05",
          "2023-11-06",
          "2023-11-07",
          "2023-11-08",
          "2023-11-09",
          "2023-11-10",
          "2023-11-11",
          "2023-11-12",
          "2023-11-13",
          "2023-11-14",
          "2023-11-15",
          "2023-11-16",
          "2023-11-17",
          "2023-11-18",
          "2023-11-19",
          "2023-11-20",
          "2023-11-21",
          "2023-11-22",
          "2023-11-23",
          "2023-11-24",
          "2023-11-25",
          "2023-11-26",
          "2023-11-27",
          "2023-11-28",
          "2023-11-29",
          "2023-11-30",
          "2023-12-01",
          "2023-12-02",
          "2023-12-03",
          "2023-12-04",
          "2023-12-05",
          "2023-12-06",
          "2023-12-07",
          "2023-12-08",
          "2023-12-09",
          "2023-12-10"
         ],
         "xaxis": "x3",
         "y": [
          1091,
          1077,
          1060,
          1055,
          1127,
          1139,
          1138,
          1166,
          1169,
          1110,
          1176,
          1169,
          1286,
          1251,
          1337,
          1371,
          1402,
          1515,
          1600,
          1627,
          1652,
          1645,
          1731,
          1710,
          1688,
          1816,
          1798,
          1763,
          1786,
          1696,
          1623,
          1660,
          1706,
          1666,
          1619,
          1533,
          1439,
          1470,
          1521,
          1605
         ],
         "yaxis": "y3"
        },
        {
         "hovertemplate": "7-day Rolling Average of ACtive Hospitalizations: %{y}<extra></extra>",
         "line": {
          "color": "red"
         },
         "mode": "lines",
         "name": "7-day Rolling Average of Active Hospitalizations",
         "type": "scatter",
         "x": [
          "2023-11-08",
          "2023-11-09",
          "2023-11-10",
          "2023-11-11",
          "2023-11-12",
          "2023-11-13",
          "2023-11-14",
          "2023-11-15",
          "2023-11-16",
          "2023-11-17",
          "2023-11-18",
          "2023-11-19",
          "2023-11-20",
          "2023-11-21",
          "2023-11-22",
          "2023-11-23",
          "2023-11-24",
          "2023-11-25",
          "2023-11-26",
          "2023-11-27",
          "2023-11-28",
          "2023-11-29",
          "2023-11-30",
          "2023-12-01",
          "2023-12-02",
          "2023-12-03",
          "2023-12-04",
          "2023-12-05",
          "2023-12-06",
          "2023-12-07",
          "2023-12-08",
          "2023-12-09",
          "2023-12-10"
         ],
         "xaxis": "x3",
         "y": [
          1098.142857142857,
          1108.857142857143,
          1122,
          1129.142857142857,
          1146.4285714285713,
          1152.4285714285713,
          1173.4285714285713,
          1189.5714285714287,
          1214,
          1242.857142857143,
          1284.5714285714287,
          1333,
          1394.5714285714287,
          1443.2857142857142,
          1500.5714285714287,
          1544.5714285714287,
          1596,
          1640,
          1664.7142857142858,
          1695.5714285714287,
          1720,
          1735.857142857143,
          1756,
          1751,
          1738.5714285714287,
          1734.5714285714287,
          1718.857142857143,
          1700,
          1679.4285714285713,
          1643.2857142857142,
          1606.5714285714287,
          1584.7142857142858,
          1564.857142857143
         ],
         "yaxis": "y3"
        },
        {
         "hovertemplate": "Number of Patients in ICU: %{y}<extra></extra>",
         "marker": {
          "color": "blue"
         },
         "mode": "lines+markers",
         "name": "Number of Patients in ICU",
         "type": "scatter",
         "x": [
          "2023-11-01",
          "2023-11-02",
          "2023-11-03",
          "2023-11-04",
          "2023-11-05",
          "2023-11-06",
          "2023-11-07",
          "2023-11-08",
          "2023-11-09",
          "2023-11-10",
          "2023-11-11",
          "2023-11-12",
          "2023-11-13",
          "2023-11-14",
          "2023-11-15",
          "2023-11-16",
          "2023-11-17",
          "2023-11-18",
          "2023-11-19",
          "2023-11-20",
          "2023-11-21",
          "2023-11-22",
          "2023-11-23",
          "2023-11-24",
          "2023-11-25",
          "2023-11-26",
          "2023-11-27",
          "2023-11-28",
          "2023-11-29",
          "2023-11-30",
          "2023-12-01",
          "2023-12-02",
          "2023-12-03",
          "2023-12-04",
          "2023-12-05",
          "2023-12-06",
          "2023-12-07",
          "2023-12-08",
          "2023-12-09",
          "2023-12-10"
         ],
         "xaxis": "x4",
         "y": [
          57,
          61,
          57,
          58,
          63,
          67,
          77,
          81,
          84,
          77,
          78,
          81,
          79,
          84,
          84,
          84,
          92,
          91,
          97,
          106,
          103,
          97,
          94,
          90,
          94,
          93,
          102,
          113,
          114,
          114,
          113,
          120,
          120,
          113,
          110,
          100,
          107,
          111,
          109,
          113
         ],
         "yaxis": "y4"
        },
        {
         "hovertemplate": "7-day Rolling Average of ICU Occupancies: %{y}<extra></extra>",
         "line": {
          "color": "red"
         },
         "mode": "lines",
         "name": "7-day Rolling Average of ICU Occupancies",
         "type": "scatter",
         "x": [
          "2023-11-08",
          "2023-11-09",
          "2023-11-10",
          "2023-11-11",
          "2023-11-12",
          "2023-11-13",
          "2023-11-14",
          "2023-11-15",
          "2023-11-16",
          "2023-11-17",
          "2023-11-18",
          "2023-11-19",
          "2023-11-20",
          "2023-11-21",
          "2023-11-22",
          "2023-11-23",
          "2023-11-24",
          "2023-11-25",
          "2023-11-26",
          "2023-11-27",
          "2023-11-28",
          "2023-11-29",
          "2023-11-30",
          "2023-12-01",
          "2023-12-02",
          "2023-12-03",
          "2023-12-04",
          "2023-12-05",
          "2023-12-06",
          "2023-12-07",
          "2023-12-08",
          "2023-12-09",
          "2023-12-10"
         ],
         "xaxis": "x4",
         "y": [
          62.857142857142854,
          66.28571428571429,
          69.57142857142857,
          72.42857142857143,
          75.28571428571429,
          77.85714285714286,
          79.57142857142857,
          80.57142857142857,
          81,
          81,
          83.14285714285714,
          85,
          87.28571428571429,
          91.14285714285714,
          93.85714285714286,
          95.71428571428571,
          97.14285714285714,
          96.85714285714286,
          97.28571428571429,
          96.71428571428571,
          96.14285714285714,
          97.57142857142857,
          100,
          102.85714285714286,
          106.14285714285714,
          109.85714285714286,
          113.71428571428571,
          115.28571428571429,
          114.85714285714286,
          112.85714285714286,
          111.85714285714286,
          111.57142857142857,
          110
         ],
         "yaxis": "y4"
        },
        {
         "hovertemplate": "Forecasted Cases: %{y}<extra></extra>",
         "line": {
          "color": "green",
          "dash": "dash"
         },
         "mode": "lines",
         "name": "Forecasted Cases",
         "type": "scatter",
         "x": [
          "2023-12-11T00:00:00",
          "2023-12-12T00:00:00",
          "2023-12-13T00:00:00",
          "2023-12-14T00:00:00",
          "2023-12-15T00:00:00",
          "2023-12-16T00:00:00",
          "2023-12-17T00:00:00",
          "2023-12-18T00:00:00",
          "2023-12-19T00:00:00",
          "2023-12-20T00:00:00",
          "2023-12-21T00:00:00",
          "2023-12-22T00:00:00",
          "2023-12-23T00:00:00",
          "2023-12-24T00:00:00",
          "2023-12-25T00:00:00",
          "2023-12-26T00:00:00",
          "2023-12-27T00:00:00",
          "2023-12-28T00:00:00",
          "2023-12-29T00:00:00",
          "2023-12-30T00:00:00",
          "2023-12-31T00:00:00",
          "2024-01-01T00:00:00",
          "2024-01-02T00:00:00",
          "2024-01-03T00:00:00",
          "2024-01-04T00:00:00",
          "2024-01-05T00:00:00",
          "2024-01-06T00:00:00",
          "2024-01-07T00:00:00",
          "2024-01-08T00:00:00",
          "2024-01-09T00:00:00"
         ],
         "xaxis": "x",
         "y": [
          578.9851562943744,
          616.6709904891801,
          623.1214024629835,
          713.2074108726467,
          601.1821032776817,
          504.52329320779637,
          533.8368011826848,
          570.6136832950781,
          584.042936118394,
          659.6162899733513,
          652.4408553841397,
          577.0939226208225,
          549.2358842015977,
          555.974286835972,
          558.2219573598892,
          605.6385150297549,
          641.5236131841358,
          616.7751872788381,
          583.3311160898347,
          569.0548138452995,
          556.5478224385361,
          573.0330898585863,
          609.5102541301737,
          619.3798827312809,
          605.0341449015247,
          589.632940490816,
          571.3438139178884,
          565.7398675648877,
          584.3996540682114,
          603.6339070517208
         ],
         "yaxis": "y"
        },
        {
         "hovertemplate": "Forecasted Deaths: %{y}<extra></extra>",
         "marker": {
          "color": "black"
         },
         "name": "Forecasted Deaths",
         "type": "bar",
         "x": [
          "2023-12-10T00:00:00",
          "2023-12-11T00:00:00",
          "2023-12-12T00:00:00",
          "2023-12-13T00:00:00",
          "2023-12-14T00:00:00",
          "2023-12-15T00:00:00",
          "2023-12-16T00:00:00",
          "2023-12-17T00:00:00",
          "2023-12-18T00:00:00",
          "2023-12-19T00:00:00",
          "2023-12-20T00:00:00",
          "2023-12-21T00:00:00",
          "2023-12-22T00:00:00",
          "2023-12-23T00:00:00",
          "2023-12-24T00:00:00",
          "2023-12-25T00:00:00",
          "2023-12-26T00:00:00",
          "2023-12-27T00:00:00",
          "2023-12-28T00:00:00",
          "2023-12-29T00:00:00",
          "2023-12-30T00:00:00",
          "2023-12-31T00:00:00",
          "2024-01-01T00:00:00",
          "2024-01-02T00:00:00",
          "2024-01-03T00:00:00",
          "2024-01-04T00:00:00",
          "2024-01-05T00:00:00",
          "2024-01-06T00:00:00",
          "2024-01-07T00:00:00",
          "2024-01-08T00:00:00"
         ],
         "xaxis": "x2",
         "y": [
          7.421062968105771,
          4.211541145078195,
          5.088350554513203,
          3.6868734014128317,
          6.081985364627863,
          4.356966271221179,
          5.304562280786946,
          4.140047277014439,
          5.521968069754526,
          4.476377272052489,
          5.250732545165208,
          4.41695169286303,
          5.259406471066518,
          4.581264158318032,
          5.151419221127773,
          4.5830734307091054,
          5.1181013688963315,
          4.665898739094876,
          5.0659247244609675,
          4.684651501716871,
          5.033376486342628,
          4.729213259576905,
          5.003329066829092,
          4.748561448157293,
          4.979215530573849,
          4.774349604935402,
          4.960027897236127,
          4.789778588642539,
          4.943503822744685,
          4.8056318144309325
         ],
         "yaxis": "y2"
        },
        {
         "hovertemplate": "Forecasted Hospitalizations: %{y}<extra></extra>",
         "line": {
          "color": "orange",
          "dash": "dash"
         },
         "mode": "lines",
         "name": "Forecasted Hospitalizations",
         "type": "scatter",
         "x": [
          "2023-12-10T00:00:00",
          "2023-12-11T00:00:00",
          "2023-12-12T00:00:00",
          "2023-12-13T00:00:00",
          "2023-12-14T00:00:00",
          "2023-12-15T00:00:00",
          "2023-12-16T00:00:00",
          "2023-12-17T00:00:00",
          "2023-12-18T00:00:00",
          "2023-12-19T00:00:00",
          "2023-12-20T00:00:00",
          "2023-12-21T00:00:00",
          "2023-12-22T00:00:00",
          "2023-12-23T00:00:00",
          "2023-12-24T00:00:00",
          "2023-12-25T00:00:00",
          "2023-12-26T00:00:00",
          "2023-12-27T00:00:00",
          "2023-12-28T00:00:00",
          "2023-12-29T00:00:00",
          "2023-12-30T00:00:00",
          "2023-12-31T00:00:00",
          "2024-01-01T00:00:00",
          "2024-01-02T00:00:00",
          "2024-01-03T00:00:00",
          "2024-01-04T00:00:00",
          "2024-01-05T00:00:00",
          "2024-01-06T00:00:00",
          "2024-01-07T00:00:00",
          "2024-01-08T00:00:00"
         ],
         "xaxis": "x3",
         "y": [
          1631.5652861626727,
          1644.1797761883072,
          1653.8926968561839,
          1653.290318688631,
          1655.3779432709357,
          1656.2194741804217,
          1655.9606829339814,
          1656.5373893881774,
          1656.481985097044,
          1656.4859437491525,
          1656.5866360014077,
          1656.537845101689,
          1656.5615636593277,
          1656.5687994773677,
          1656.5583103966794,
          1656.5670013820754,
          1656.5645629853207,
          1656.5639761938517,
          1656.5656770933674,
          1656.5645602639372,
          1656.564955378901,
          1656.5650653749444,
          1656.5648378796477,
          1656.5650015261929,
          1656.5649491430233,
          1656.5649349752991,
          1656.5649678591676,
          1656.5649451658785,
          1656.5649526978768,
          1656.5649548090162
         ],
         "yaxis": "y3"
        },
        {
         "hovertemplate": "Forecasted ICU Occupancies (ARIMA): %{y}<extra></extra>",
         "line": {
          "color": "green",
          "dash": "dash"
         },
         "mode": "lines",
         "name": "Forecasted ICU Occupancies (ARIMA)",
         "type": "scatter",
         "x": [
          "2023-12-10T00:00:00",
          "2023-12-11T00:00:00",
          "2023-12-12T00:00:00",
          "2023-12-13T00:00:00",
          "2023-12-14T00:00:00",
          "2023-12-15T00:00:00",
          "2023-12-16T00:00:00",
          "2023-12-17T00:00:00",
          "2023-12-18T00:00:00",
          "2023-12-19T00:00:00",
          "2023-12-20T00:00:00",
          "2023-12-21T00:00:00",
          "2023-12-22T00:00:00",
          "2023-12-23T00:00:00",
          "2023-12-24T00:00:00",
          "2023-12-25T00:00:00",
          "2023-12-26T00:00:00",
          "2023-12-27T00:00:00",
          "2023-12-28T00:00:00",
          "2023-12-29T00:00:00",
          "2023-12-30T00:00:00",
          "2023-12-31T00:00:00",
          "2024-01-01T00:00:00",
          "2024-01-02T00:00:00",
          "2024-01-03T00:00:00",
          "2024-01-04T00:00:00",
          "2024-01-05T00:00:00",
          "2024-01-06T00:00:00",
          "2024-01-07T00:00:00",
          "2024-01-08T00:00:00"
         ],
         "xaxis": "x4",
         "y": [
          109.32475029965096,
          108.65680784716942,
          110.4599015693668,
          108.7699250375057,
          110.57948340269786,
          110.4551151160582,
          109.51807157425154,
          110.44662194643763,
          109.6182303577381,
          109.84745979283171,
          110.25959667380314,
          109.74865681921459,
          110.15733626217447,
          109.99906485002124,
          109.84046890867975,
          110.10918462197033,
          109.89526708417674,
          109.98893694532116,
          110.04536814196581,
          109.91207650113562,
          110.0269322477771,
          109.97306111962733,
          109.95472139144218,
          110.01822606566112,
          109.95708301183745,
          109.9881901706073,
          109.99300002644144,
          109.96348406070607,
          109.99538519108077,
          109.97748786226846
         ],
         "yaxis": "y4"
        },
        {
         "hovertemplate": "Forecasted ICU Occupancies (linreg): %{y}<extra></extra>",
         "line": {
          "color": "orange",
          "dash": "dashdot"
         },
         "mode": "lines",
         "name": "Forecasted ICU Occupancies (linreg)",
         "type": "scatter",
         "x": [
          "2023-12-11",
          "2023-12-12",
          "2023-12-13",
          "2023-12-14",
          "2023-12-15",
          "2023-12-16",
          "2023-12-17",
          "2023-12-18",
          "2023-12-19",
          "2023-12-20",
          "2023-12-21",
          "2023-12-22",
          "2023-12-23",
          "2023-12-24",
          "2023-12-25",
          "2023-12-26",
          "2023-12-27",
          "2023-12-28",
          "2023-12-29",
          "2023-12-30",
          "2023-12-31",
          "2024-01-01",
          "2024-01-02",
          "2024-01-03",
          "2024-01-04",
          "2024-01-05",
          "2024-01-06",
          "2024-01-07",
          "2024-01-08",
          "2024-01-09"
         ],
         "xaxis": "x4",
         "y": [
          122.13846153835766,
          123.59887429629453,
          125.05928705423139,
          126.51969981216826,
          127.98011257010512,
          129.44052532827482,
          130.90093808621168,
          132.36135084414855,
          133.8217636020854,
          135.28217636002228,
          136.74258911795914,
          138.20300187612884,
          139.6634146340657,
          141.12382739200257,
          142.58424014993943,
          144.0446529078763,
          145.50506566581316,
          146.96547842398286,
          148.42589118191972,
          149.8863039398566,
          151.34671669779345,
          152.80712945573032,
          154.26754221366718,
          155.72795497160405,
          157.18836772977374,
          158.6487804877106,
          160.10919324564748,
          161.56960600358434,
          163.0300187615212,
          164.49043151945807
         ],
         "yaxis": "y4"
        }
       ],
       "layout": {
        "annotations": [
         {
          "font": {
           "size": 16
          },
          "showarrow": false,
          "text": "Daily COVID-19 Infections for ON",
          "x": 0.225,
          "xanchor": "center",
          "xref": "paper",
          "y": 1,
          "yanchor": "bottom",
          "yref": "paper"
         },
         {
          "font": {
           "size": 16
          },
          "showarrow": false,
          "text": "COVID-19 Deaths per Day for ON",
          "x": 0.775,
          "xanchor": "center",
          "xref": "paper",
          "y": 1,
          "yanchor": "bottom",
          "yref": "paper"
         },
         {
          "font": {
           "size": 16
          },
          "showarrow": false,
          "text": "COVID-19 Hospitalizations for ON",
          "x": 0.225,
          "xanchor": "center",
          "xref": "paper",
          "y": 0.375,
          "yanchor": "bottom",
          "yref": "paper"
         },
         {
          "font": {
           "size": 16
          },
          "showarrow": false,
          "text": "COVID-19 ICU Occupancies for ON",
          "x": 0.775,
          "xanchor": "center",
          "xref": "paper",
          "y": 0.375,
          "yanchor": "bottom",
          "yref": "paper"
         }
        ],
        "height": 1600,
        "showlegend": true,
        "template": {
         "data": {
          "bar": [
           {
            "error_x": {
             "color": "#2a3f5f"
            },
            "error_y": {
             "color": "#2a3f5f"
            },
            "marker": {
             "line": {
              "color": "#E5ECF6",
              "width": 0.5
             },
             "pattern": {
              "fillmode": "overlay",
              "size": 10,
              "solidity": 0.2
             }
            },
            "type": "bar"
           }
          ],
          "barpolar": [
           {
            "marker": {
             "line": {
              "color": "#E5ECF6",
              "width": 0.5
             },
             "pattern": {
              "fillmode": "overlay",
              "size": 10,
              "solidity": 0.2
             }
            },
            "type": "barpolar"
           }
          ],
          "carpet": [
           {
            "aaxis": {
             "endlinecolor": "#2a3f5f",
             "gridcolor": "white",
             "linecolor": "white",
             "minorgridcolor": "white",
             "startlinecolor": "#2a3f5f"
            },
            "baxis": {
             "endlinecolor": "#2a3f5f",
             "gridcolor": "white",
             "linecolor": "white",
             "minorgridcolor": "white",
             "startlinecolor": "#2a3f5f"
            },
            "type": "carpet"
           }
          ],
          "choropleth": [
           {
            "colorbar": {
             "outlinewidth": 0,
             "ticks": ""
            },
            "type": "choropleth"
           }
          ],
          "contour": [
           {
            "colorbar": {
             "outlinewidth": 0,
             "ticks": ""
            },
            "colorscale": [
             [
              0,
              "#0d0887"
             ],
             [
              0.1111111111111111,
              "#46039f"
             ],
             [
              0.2222222222222222,
              "#7201a8"
             ],
             [
              0.3333333333333333,
              "#9c179e"
             ],
             [
              0.4444444444444444,
              "#bd3786"
             ],
             [
              0.5555555555555556,
              "#d8576b"
             ],
             [
              0.6666666666666666,
              "#ed7953"
             ],
             [
              0.7777777777777778,
              "#fb9f3a"
             ],
             [
              0.8888888888888888,
              "#fdca26"
             ],
             [
              1,
              "#f0f921"
             ]
            ],
            "type": "contour"
           }
          ],
          "contourcarpet": [
           {
            "colorbar": {
             "outlinewidth": 0,
             "ticks": ""
            },
            "type": "contourcarpet"
           }
          ],
          "heatmap": [
           {
            "colorbar": {
             "outlinewidth": 0,
             "ticks": ""
            },
            "colorscale": [
             [
              0,
              "#0d0887"
             ],
             [
              0.1111111111111111,
              "#46039f"
             ],
             [
              0.2222222222222222,
              "#7201a8"
             ],
             [
              0.3333333333333333,
              "#9c179e"
             ],
             [
              0.4444444444444444,
              "#bd3786"
             ],
             [
              0.5555555555555556,
              "#d8576b"
             ],
             [
              0.6666666666666666,
              "#ed7953"
             ],
             [
              0.7777777777777778,
              "#fb9f3a"
             ],
             [
              0.8888888888888888,
              "#fdca26"
             ],
             [
              1,
              "#f0f921"
             ]
            ],
            "type": "heatmap"
           }
          ],
          "heatmapgl": [
           {
            "colorbar": {
             "outlinewidth": 0,
             "ticks": ""
            },
            "colorscale": [
             [
              0,
              "#0d0887"
             ],
             [
              0.1111111111111111,
              "#46039f"
             ],
             [
              0.2222222222222222,
              "#7201a8"
             ],
             [
              0.3333333333333333,
              "#9c179e"
             ],
             [
              0.4444444444444444,
              "#bd3786"
             ],
             [
              0.5555555555555556,
              "#d8576b"
             ],
             [
              0.6666666666666666,
              "#ed7953"
             ],
             [
              0.7777777777777778,
              "#fb9f3a"
             ],
             [
              0.8888888888888888,
              "#fdca26"
             ],
             [
              1,
              "#f0f921"
             ]
            ],
            "type": "heatmapgl"
           }
          ],
          "histogram": [
           {
            "marker": {
             "pattern": {
              "fillmode": "overlay",
              "size": 10,
              "solidity": 0.2
             }
            },
            "type": "histogram"
           }
          ],
          "histogram2d": [
           {
            "colorbar": {
             "outlinewidth": 0,
             "ticks": ""
            },
            "colorscale": [
             [
              0,
              "#0d0887"
             ],
             [
              0.1111111111111111,
              "#46039f"
             ],
             [
              0.2222222222222222,
              "#7201a8"
             ],
             [
              0.3333333333333333,
              "#9c179e"
             ],
             [
              0.4444444444444444,
              "#bd3786"
             ],
             [
              0.5555555555555556,
              "#d8576b"
             ],
             [
              0.6666666666666666,
              "#ed7953"
             ],
             [
              0.7777777777777778,
              "#fb9f3a"
             ],
             [
              0.8888888888888888,
              "#fdca26"
             ],
             [
              1,
              "#f0f921"
             ]
            ],
            "type": "histogram2d"
           }
          ],
          "histogram2dcontour": [
           {
            "colorbar": {
             "outlinewidth": 0,
             "ticks": ""
            },
            "colorscale": [
             [
              0,
              "#0d0887"
             ],
             [
              0.1111111111111111,
              "#46039f"
             ],
             [
              0.2222222222222222,
              "#7201a8"
             ],
             [
              0.3333333333333333,
              "#9c179e"
             ],
             [
              0.4444444444444444,
              "#bd3786"
             ],
             [
              0.5555555555555556,
              "#d8576b"
             ],
             [
              0.6666666666666666,
              "#ed7953"
             ],
             [
              0.7777777777777778,
              "#fb9f3a"
             ],
             [
              0.8888888888888888,
              "#fdca26"
             ],
             [
              1,
              "#f0f921"
             ]
            ],
            "type": "histogram2dcontour"
           }
          ],
          "mesh3d": [
           {
            "colorbar": {
             "outlinewidth": 0,
             "ticks": ""
            },
            "type": "mesh3d"
           }
          ],
          "parcoords": [
           {
            "line": {
             "colorbar": {
              "outlinewidth": 0,
              "ticks": ""
             }
            },
            "type": "parcoords"
           }
          ],
          "pie": [
           {
            "automargin": true,
            "type": "pie"
           }
          ],
          "scatter": [
           {
            "fillpattern": {
             "fillmode": "overlay",
             "size": 10,
             "solidity": 0.2
            },
            "type": "scatter"
           }
          ],
          "scatter3d": [
           {
            "line": {
             "colorbar": {
              "outlinewidth": 0,
              "ticks": ""
             }
            },
            "marker": {
             "colorbar": {
              "outlinewidth": 0,
              "ticks": ""
             }
            },
            "type": "scatter3d"
           }
          ],
          "scattercarpet": [
           {
            "marker": {
             "colorbar": {
              "outlinewidth": 0,
              "ticks": ""
             }
            },
            "type": "scattercarpet"
           }
          ],
          "scattergeo": [
           {
            "marker": {
             "colorbar": {
              "outlinewidth": 0,
              "ticks": ""
             }
            },
            "type": "scattergeo"
           }
          ],
          "scattergl": [
           {
            "marker": {
             "colorbar": {
              "outlinewidth": 0,
              "ticks": ""
             }
            },
            "type": "scattergl"
           }
          ],
          "scattermapbox": [
           {
            "marker": {
             "colorbar": {
              "outlinewidth": 0,
              "ticks": ""
             }
            },
            "type": "scattermapbox"
           }
          ],
          "scatterpolar": [
           {
            "marker": {
             "colorbar": {
              "outlinewidth": 0,
              "ticks": ""
             }
            },
            "type": "scatterpolar"
           }
          ],
          "scatterpolargl": [
           {
            "marker": {
             "colorbar": {
              "outlinewidth": 0,
              "ticks": ""
             }
            },
            "type": "scatterpolargl"
           }
          ],
          "scatterternary": [
           {
            "marker": {
             "colorbar": {
              "outlinewidth": 0,
              "ticks": ""
             }
            },
            "type": "scatterternary"
           }
          ],
          "surface": [
           {
            "colorbar": {
             "outlinewidth": 0,
             "ticks": ""
            },
            "colorscale": [
             [
              0,
              "#0d0887"
             ],
             [
              0.1111111111111111,
              "#46039f"
             ],
             [
              0.2222222222222222,
              "#7201a8"
             ],
             [
              0.3333333333333333,
              "#9c179e"
             ],
             [
              0.4444444444444444,
              "#bd3786"
             ],
             [
              0.5555555555555556,
              "#d8576b"
             ],
             [
              0.6666666666666666,
              "#ed7953"
             ],
             [
              0.7777777777777778,
              "#fb9f3a"
             ],
             [
              0.8888888888888888,
              "#fdca26"
             ],
             [
              1,
              "#f0f921"
             ]
            ],
            "type": "surface"
           }
          ],
          "table": [
           {
            "cells": {
             "fill": {
              "color": "#EBF0F8"
             },
             "line": {
              "color": "white"
             }
            },
            "header": {
             "fill": {
              "color": "#C8D4E3"
             },
             "line": {
              "color": "white"
             }
            },
            "type": "table"
           }
          ]
         },
         "layout": {
          "annotationdefaults": {
           "arrowcolor": "#2a3f5f",
           "arrowhead": 0,
           "arrowwidth": 1
          },
          "autotypenumbers": "strict",
          "coloraxis": {
           "colorbar": {
            "outlinewidth": 0,
            "ticks": ""
           }
          },
          "colorscale": {
           "diverging": [
            [
             0,
             "#8e0152"
            ],
            [
             0.1,
             "#c51b7d"
            ],
            [
             0.2,
             "#de77ae"
            ],
            [
             0.3,
             "#f1b6da"
            ],
            [
             0.4,
             "#fde0ef"
            ],
            [
             0.5,
             "#f7f7f7"
            ],
            [
             0.6,
             "#e6f5d0"
            ],
            [
             0.7,
             "#b8e186"
            ],
            [
             0.8,
             "#7fbc41"
            ],
            [
             0.9,
             "#4d9221"
            ],
            [
             1,
             "#276419"
            ]
           ],
           "sequential": [
            [
             0,
             "#0d0887"
            ],
            [
             0.1111111111111111,
             "#46039f"
            ],
            [
             0.2222222222222222,
             "#7201a8"
            ],
            [
             0.3333333333333333,
             "#9c179e"
            ],
            [
             0.4444444444444444,
             "#bd3786"
            ],
            [
             0.5555555555555556,
             "#d8576b"
            ],
            [
             0.6666666666666666,
             "#ed7953"
            ],
            [
             0.7777777777777778,
             "#fb9f3a"
            ],
            [
             0.8888888888888888,
             "#fdca26"
            ],
            [
             1,
             "#f0f921"
            ]
           ],
           "sequentialminus": [
            [
             0,
             "#0d0887"
            ],
            [
             0.1111111111111111,
             "#46039f"
            ],
            [
             0.2222222222222222,
             "#7201a8"
            ],
            [
             0.3333333333333333,
             "#9c179e"
            ],
            [
             0.4444444444444444,
             "#bd3786"
            ],
            [
             0.5555555555555556,
             "#d8576b"
            ],
            [
             0.6666666666666666,
             "#ed7953"
            ],
            [
             0.7777777777777778,
             "#fb9f3a"
            ],
            [
             0.8888888888888888,
             "#fdca26"
            ],
            [
             1,
             "#f0f921"
            ]
           ]
          },
          "colorway": [
           "#636efa",
           "#EF553B",
           "#00cc96",
           "#ab63fa",
           "#FFA15A",
           "#19d3f3",
           "#FF6692",
           "#B6E880",
           "#FF97FF",
           "#FECB52"
          ],
          "font": {
           "color": "#2a3f5f"
          },
          "geo": {
           "bgcolor": "white",
           "lakecolor": "white",
           "landcolor": "#E5ECF6",
           "showlakes": true,
           "showland": true,
           "subunitcolor": "white"
          },
          "hoverlabel": {
           "align": "left"
          },
          "hovermode": "closest",
          "mapbox": {
           "style": "light"
          },
          "paper_bgcolor": "white",
          "plot_bgcolor": "#E5ECF6",
          "polar": {
           "angularaxis": {
            "gridcolor": "white",
            "linecolor": "white",
            "ticks": ""
           },
           "bgcolor": "#E5ECF6",
           "radialaxis": {
            "gridcolor": "white",
            "linecolor": "white",
            "ticks": ""
           }
          },
          "scene": {
           "xaxis": {
            "backgroundcolor": "#E5ECF6",
            "gridcolor": "white",
            "gridwidth": 2,
            "linecolor": "white",
            "showbackground": true,
            "ticks": "",
            "zerolinecolor": "white"
           },
           "yaxis": {
            "backgroundcolor": "#E5ECF6",
            "gridcolor": "white",
            "gridwidth": 2,
            "linecolor": "white",
            "showbackground": true,
            "ticks": "",
            "zerolinecolor": "white"
           },
           "zaxis": {
            "backgroundcolor": "#E5ECF6",
            "gridcolor": "white",
            "gridwidth": 2,
            "linecolor": "white",
            "showbackground": true,
            "ticks": "",
            "zerolinecolor": "white"
           }
          },
          "shapedefaults": {
           "line": {
            "color": "#2a3f5f"
           }
          },
          "ternary": {
           "aaxis": {
            "gridcolor": "white",
            "linecolor": "white",
            "ticks": ""
           },
           "baxis": {
            "gridcolor": "white",
            "linecolor": "white",
            "ticks": ""
           },
           "bgcolor": "#E5ECF6",
           "caxis": {
            "gridcolor": "white",
            "linecolor": "white",
            "ticks": ""
           }
          },
          "title": {
           "x": 0.05
          },
          "xaxis": {
           "automargin": true,
           "gridcolor": "white",
           "linecolor": "white",
           "ticks": "",
           "title": {
            "standoff": 15
           },
           "zerolinecolor": "white",
           "zerolinewidth": 2
          },
          "yaxis": {
           "automargin": true,
           "gridcolor": "white",
           "linecolor": "white",
           "ticks": "",
           "title": {
            "standoff": 15
           },
           "zerolinecolor": "white",
           "zerolinewidth": 2
          }
         }
        },
        "title": {
         "text": "COVID-19 Data for ON"
        },
        "width": 1600,
        "xaxis": {
         "anchor": "y",
         "domain": [
          0,
          0.45
         ]
        },
        "xaxis2": {
         "anchor": "y2",
         "domain": [
          0.55,
          1
         ]
        },
        "xaxis3": {
         "anchor": "y3",
         "domain": [
          0,
          0.45
         ]
        },
        "xaxis4": {
         "anchor": "y4",
         "domain": [
          0.55,
          1
         ]
        },
        "yaxis": {
         "anchor": "x",
         "domain": [
          0.625,
          1
         ]
        },
        "yaxis2": {
         "anchor": "x2",
         "domain": [
          0.625,
          1
         ]
        },
        "yaxis3": {
         "anchor": "x3",
         "domain": [
          0,
          0.375
         ]
        },
        "yaxis4": {
         "anchor": "x4",
         "domain": [
          0,
          0.375
         ]
        }
       }
      }
     },
     "metadata": {},
     "output_type": "display_data"
    }
   ],
   "source": [
    "# convert dates to ordinal numbers for the linear regression model\n",
    "icu_dates = pd.to_datetime(icu_dates)\n",
    "date_ordinal = np.array([date.toordinal() for date in ICU_series.index]).reshape(-1, 1)\n",
    "icu_values = ICU_series.values\n",
    "\n",
    "# create and fit the linear regression model\n",
    "lin_reg = LinearRegression()\n",
    "lin_reg.fit(date_ordinal, icu_values)\n",
    "\n",
    "# lin reg model for the next 30 days of ICU occupancies\n",
    "last_day = ICU_series.index[-1].toordinal()\n",
    "next_30_days_ordinal = np.array([last_day + i for i in range(1, 31)]).reshape(-1, 1)\n",
    "lin_reg_forecast = lin_reg.predict(next_30_days_ordinal)\n",
    "\n",
    "# convert ordinal dates back to datetime to plot\n",
    "forecast_dates_ICU_lin_reg = [datetime.date.fromordinal(int(day)) for day in next_30_days_ordinal.flatten()]\n",
    "\n",
    "# plot the lin reg forecast as a dashed orange line in our final subplot\n",
    "fig.add_trace(go.Scatter(x=forecast_dates_ICU_lin_reg, y=lin_reg_forecast, mode='lines', name='Forecasted ICU Occupancies (linreg)',\n",
    "                        line=dict(color='orange', dash='dashdot'), hovertemplate='Forecasted ICU Occupancies (linreg): %{y}<extra></extra>'), row=2, col=2)\n",
    "\n",
    "fig.show()"
   ]
  },
  {
   "cell_type": "markdown",
   "metadata": {},
   "source": [
    "And there we have it! The linear regression model aligns much more closely with the information we can discern using the last month's 7-day rolling average in terms of ICU occupancies - some rather unsettling data, actually. "
   ]
  }
 ],
 "metadata": {
  "kernelspec": {
   "display_name": "Python 3",
   "language": "python",
   "name": "python3"
  },
  "language_info": {
   "codemirror_mode": {
    "name": "ipython",
    "version": 3
   },
   "file_extension": ".py",
   "mimetype": "text/x-python",
   "name": "python",
   "nbconvert_exporter": "python",
   "pygments_lexer": "ipython3",
   "version": "3.12.0"
  },
  "orig_nbformat": 4,
  "vscode": {
   "interpreter": {
    "hash": "8c2f246d3ce420063ed954338bc2bac546d72c83e6af55e115a8c50b3a9eb1f4"
   }
  }
 },
 "nbformat": 4,
 "nbformat_minor": 2
}
